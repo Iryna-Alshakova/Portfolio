{
 "cells": [
  {
   "cell_type": "markdown",
   "metadata": {},
   "source": [
    "# Product Dataset Processing"
   ]
  },
  {
   "cell_type": "code",
   "execution_count": 1,
   "metadata": {
    "execution": {
     "iopub.execute_input": "2021-10-07T14:18:22.128474Z",
     "iopub.status.busy": "2021-10-07T14:18:22.128103Z",
     "iopub.status.idle": "2021-10-07T14:18:34.440927Z",
     "shell.execute_reply": "2021-10-07T14:18:34.439556Z",
     "shell.execute_reply.started": "2021-10-07T14:18:22.128383Z"
    }
   },
   "outputs": [],
   "source": [
    "# pip install pymorphy2"
   ]
  },
  {
   "cell_type": "code",
   "execution_count": 26,
   "metadata": {
    "execution": {
     "iopub.execute_input": "2021-10-07T14:38:52.702277Z",
     "iopub.status.busy": "2021-10-07T14:38:52.701975Z",
     "iopub.status.idle": "2021-10-07T14:38:52.708548Z",
     "shell.execute_reply": "2021-10-07T14:38:52.707912Z",
     "shell.execute_reply.started": "2021-10-07T14:38:52.702234Z"
    }
   },
   "outputs": [],
   "source": [
    "import os\n",
    "import string\n",
    "import annoy\n",
    "import json\n",
    "\n",
    "from pymorphy2 import MorphAnalyzer\n",
    "from stop_words import get_stop_words\n",
    "from gensim.models import Word2Vec\n",
    "from gensim.models import KeyedVectors\n",
    "\n",
    "import numpy as np\n",
    "from tqdm import tqdm_notebook\n",
    "import pandas as pd"
   ]
  },
  {
   "cell_type": "code",
   "execution_count": 4,
   "metadata": {
    "execution": {
     "iopub.execute_input": "2021-10-07T14:19:39.059537Z",
     "iopub.status.busy": "2021-10-07T14:19:39.058546Z",
     "iopub.status.idle": "2021-10-07T14:19:39.718102Z",
     "shell.execute_reply": "2021-10-07T14:19:39.717238Z",
     "shell.execute_reply.started": "2021-10-07T14:19:39.059495Z"
    }
   },
   "outputs": [
    {
     "data": {
      "text/html": [
       "<div>\n",
       "<style scoped>\n",
       "    .dataframe tbody tr th:only-of-type {\n",
       "        vertical-align: middle;\n",
       "    }\n",
       "\n",
       "    .dataframe tbody tr th {\n",
       "        vertical-align: top;\n",
       "    }\n",
       "\n",
       "    .dataframe thead th {\n",
       "        text-align: right;\n",
       "    }\n",
       "</style>\n",
       "<table border=\"1\" class=\"dataframe\">\n",
       "  <thead>\n",
       "    <tr style=\"text-align: right;\">\n",
       "      <th></th>\n",
       "      <th>title</th>\n",
       "      <th>descrirption</th>\n",
       "      <th>product_id</th>\n",
       "      <th>category_id</th>\n",
       "      <th>subcategory_id</th>\n",
       "      <th>properties</th>\n",
       "      <th>image_links</th>\n",
       "    </tr>\n",
       "  </thead>\n",
       "  <tbody>\n",
       "    <tr>\n",
       "      <th>0</th>\n",
       "      <td>Юбка детская ORBY</td>\n",
       "      <td>Новая, не носили ни разу. В реале красивей чем...</td>\n",
       "      <td>58e3cfe6132ca50e053f5f82</td>\n",
       "      <td>22.0</td>\n",
       "      <td>2211</td>\n",
       "      <td>{'detskie_razmer_rost': '81-86 (1,5 года)'}</td>\n",
       "      <td>http://cache3.youla.io/files/images/360_360/58...</td>\n",
       "    </tr>\n",
       "    <tr>\n",
       "      <th>1</th>\n",
       "      <td>Ботильоны</td>\n",
       "      <td>Новые,привезены из Чехии ,указан размер 40,но ...</td>\n",
       "      <td>5667531b2b7f8d127d838c34</td>\n",
       "      <td>9.0</td>\n",
       "      <td>902</td>\n",
       "      <td>{'zhenskaya_odezhda_tzvet': 'Зеленый', 'visota...</td>\n",
       "      <td>http://cache3.youla.io/files/images/360_360/5b...</td>\n",
       "    </tr>\n",
       "    <tr>\n",
       "      <th>2</th>\n",
       "      <td>Брюки</td>\n",
       "      <td>Размер 40-42. Брюки почти новые - не знаю как ...</td>\n",
       "      <td>59534826aaab284cba337e06</td>\n",
       "      <td>9.0</td>\n",
       "      <td>906</td>\n",
       "      <td>{'zhenskaya_odezhda_dzhinsy_bryuki_tip': 'Брюк...</td>\n",
       "      <td>http://cache3.youla.io/files/images/360_360/59...</td>\n",
       "    </tr>\n",
       "    <tr>\n",
       "      <th>3</th>\n",
       "      <td>Продам детские шапки</td>\n",
       "      <td>Продам шапки,кажда 200р.Розовая и белая проданны.</td>\n",
       "      <td>57de544096ad842e26de8027</td>\n",
       "      <td>22.0</td>\n",
       "      <td>2217</td>\n",
       "      <td>{'detskie_pol': 'Девочкам', 'detskaya_odezhda_...</td>\n",
       "      <td>http://cache3.youla.io/files/images/360_360/57...</td>\n",
       "    </tr>\n",
       "    <tr>\n",
       "      <th>4</th>\n",
       "      <td>Блузка</td>\n",
       "      <td>Темно-синяя, 42 размер,состояние отличное,как ...</td>\n",
       "      <td>5ad4d2626c86cb168d212022</td>\n",
       "      <td>9.0</td>\n",
       "      <td>907</td>\n",
       "      <td>{'zhenskaya_odezhda_tzvet': 'Синий', 'zhenskay...</td>\n",
       "      <td>http://cache3.youla.io/files/images/360_360/5a...</td>\n",
       "    </tr>\n",
       "    <tr>\n",
       "      <th>...</th>\n",
       "      <td>...</td>\n",
       "      <td>...</td>\n",
       "      <td>...</td>\n",
       "      <td>...</td>\n",
       "      <td>...</td>\n",
       "      <td>...</td>\n",
       "      <td>...</td>\n",
       "    </tr>\n",
       "    <tr>\n",
       "      <th>35543</th>\n",
       "      <td>Юбка</td>\n",
       "      <td>Юбка Белая по.Турция фирма adL</td>\n",
       "      <td>5b5f181c62e1c6616a7f6472</td>\n",
       "      <td>9.0</td>\n",
       "      <td>904</td>\n",
       "      <td>{'zhenskaya_odezhda_platya_yubki_tip': 'Юбки',...</td>\n",
       "      <td>http://cache3.youla.io/files/images/360_360/5b...</td>\n",
       "    </tr>\n",
       "    <tr>\n",
       "      <th>35544</th>\n",
       "      <td>Новый твидовый пиджак</td>\n",
       "      <td>Новый с бирками пиджак размер S в стиле Coco C...</td>\n",
       "      <td>5bd6c8b29e94ba033d31f8d0</td>\n",
       "      <td>9.0</td>\n",
       "      <td>908</td>\n",
       "      <td>{'brand_zhenskii': 'Chanel', 'zhenskaya_odezhd...</td>\n",
       "      <td>http://cache3.youla.io/files/images/360_360/5b...</td>\n",
       "    </tr>\n",
       "    <tr>\n",
       "      <th>35545</th>\n",
       "      <td>Женская зимняя куртка</td>\n",
       "      <td>Женская зимняя спортивная куртка фирмы Rossiqn...</td>\n",
       "      <td>5bd6c8bc074b3e1c056f69b2</td>\n",
       "      <td>9.0</td>\n",
       "      <td>903</td>\n",
       "      <td>{'zhenskaya_odezhda_razmer': '48-50 (XL)', 'zh...</td>\n",
       "      <td>http://cache3.youla.io/files/images/360_360/5b...</td>\n",
       "    </tr>\n",
       "    <tr>\n",
       "      <th>35546</th>\n",
       "      <td>Новая золотая ветровка</td>\n",
       "      <td>Женская ветровка размер 44-46. Цвет приглушённ...</td>\n",
       "      <td>5bd6c8fb2138bbc55745362c</td>\n",
       "      <td>9.0</td>\n",
       "      <td>903</td>\n",
       "      <td>{'zhenskaya_odezhda_razmer': '44-46 (М)', 'zhe...</td>\n",
       "      <td>http://cache3.youla.io/files/images/360_360/5b...</td>\n",
       "    </tr>\n",
       "    <tr>\n",
       "      <th>35547</th>\n",
       "      <td>Шарф</td>\n",
       "      <td>NaN</td>\n",
       "      <td>5bd6c8fbaaab283b79142a1f</td>\n",
       "      <td>9.0</td>\n",
       "      <td>914</td>\n",
       "      <td>{'zhenskaya_odezhda_aksessuary_tip': 'Шарфы и ...</td>\n",
       "      <td>http://cache3.youla.io/files/images/360_360/5b...</td>\n",
       "    </tr>\n",
       "  </tbody>\n",
       "</table>\n",
       "<p>35548 rows × 7 columns</p>\n",
       "</div>"
      ],
      "text/plain": [
       "                        title  \\\n",
       "0           Юбка детская ORBY   \n",
       "1                   Ботильоны   \n",
       "2                       Брюки   \n",
       "3        Продам детские шапки   \n",
       "4                      Блузка   \n",
       "...                       ...   \n",
       "35543                    Юбка   \n",
       "35544   Новый твидовый пиджак   \n",
       "35545   Женская зимняя куртка   \n",
       "35546  Новая золотая ветровка   \n",
       "35547                    Шарф   \n",
       "\n",
       "                                            descrirption  \\\n",
       "0      Новая, не носили ни разу. В реале красивей чем...   \n",
       "1      Новые,привезены из Чехии ,указан размер 40,но ...   \n",
       "2      Размер 40-42. Брюки почти новые - не знаю как ...   \n",
       "3      Продам шапки,кажда 200р.Розовая и белая проданны.   \n",
       "4      Темно-синяя, 42 размер,состояние отличное,как ...   \n",
       "...                                                  ...   \n",
       "35543                     Юбка Белая по.Турция фирма adL   \n",
       "35544  Новый с бирками пиджак размер S в стиле Coco C...   \n",
       "35545  Женская зимняя спортивная куртка фирмы Rossiqn...   \n",
       "35546  Женская ветровка размер 44-46. Цвет приглушённ...   \n",
       "35547                                                NaN   \n",
       "\n",
       "                     product_id  category_id subcategory_id  \\\n",
       "0      58e3cfe6132ca50e053f5f82         22.0           2211   \n",
       "1      5667531b2b7f8d127d838c34          9.0            902   \n",
       "2      59534826aaab284cba337e06          9.0            906   \n",
       "3      57de544096ad842e26de8027         22.0           2217   \n",
       "4      5ad4d2626c86cb168d212022          9.0            907   \n",
       "...                         ...          ...            ...   \n",
       "35543  5b5f181c62e1c6616a7f6472          9.0            904   \n",
       "35544  5bd6c8b29e94ba033d31f8d0          9.0            908   \n",
       "35545  5bd6c8bc074b3e1c056f69b2          9.0            903   \n",
       "35546  5bd6c8fb2138bbc55745362c          9.0            903   \n",
       "35547  5bd6c8fbaaab283b79142a1f          9.0            914   \n",
       "\n",
       "                                              properties  \\\n",
       "0            {'detskie_razmer_rost': '81-86 (1,5 года)'}   \n",
       "1      {'zhenskaya_odezhda_tzvet': 'Зеленый', 'visota...   \n",
       "2      {'zhenskaya_odezhda_dzhinsy_bryuki_tip': 'Брюк...   \n",
       "3      {'detskie_pol': 'Девочкам', 'detskaya_odezhda_...   \n",
       "4      {'zhenskaya_odezhda_tzvet': 'Синий', 'zhenskay...   \n",
       "...                                                  ...   \n",
       "35543  {'zhenskaya_odezhda_platya_yubki_tip': 'Юбки',...   \n",
       "35544  {'brand_zhenskii': 'Chanel', 'zhenskaya_odezhd...   \n",
       "35545  {'zhenskaya_odezhda_razmer': '48-50 (XL)', 'zh...   \n",
       "35546  {'zhenskaya_odezhda_razmer': '44-46 (М)', 'zhe...   \n",
       "35547  {'zhenskaya_odezhda_aksessuary_tip': 'Шарфы и ...   \n",
       "\n",
       "                                             image_links  \n",
       "0      http://cache3.youla.io/files/images/360_360/58...  \n",
       "1      http://cache3.youla.io/files/images/360_360/5b...  \n",
       "2      http://cache3.youla.io/files/images/360_360/59...  \n",
       "3      http://cache3.youla.io/files/images/360_360/57...  \n",
       "4      http://cache3.youla.io/files/images/360_360/5a...  \n",
       "...                                                  ...  \n",
       "35543  http://cache3.youla.io/files/images/360_360/5b...  \n",
       "35544  http://cache3.youla.io/files/images/360_360/5b...  \n",
       "35545  http://cache3.youla.io/files/images/360_360/5b...  \n",
       "35546  http://cache3.youla.io/files/images/360_360/5b...  \n",
       "35547  http://cache3.youla.io/files/images/360_360/5b...  \n",
       "\n",
       "[35548 rows x 7 columns]"
      ]
     },
     "execution_count": 4,
     "metadata": {},
     "output_type": "execute_result"
    }
   ],
   "source": [
    "products = pd.read_csv('../input/products/ProductsDataset.csv')\n",
    "products"
   ]
  },
  {
   "cell_type": "code",
   "execution_count": 5,
   "metadata": {
    "execution": {
     "iopub.execute_input": "2021-10-07T14:19:43.877433Z",
     "iopub.status.busy": "2021-10-07T14:19:43.876761Z",
     "iopub.status.idle": "2021-10-07T14:19:43.904400Z",
     "shell.execute_reply": "2021-10-07T14:19:43.903421Z",
     "shell.execute_reply.started": "2021-10-07T14:19:43.877392Z"
    }
   },
   "outputs": [
    {
     "data": {
      "text/html": [
       "<div>\n",
       "<style scoped>\n",
       "    .dataframe tbody tr th:only-of-type {\n",
       "        vertical-align: middle;\n",
       "    }\n",
       "\n",
       "    .dataframe tbody tr th {\n",
       "        vertical-align: top;\n",
       "    }\n",
       "\n",
       "    .dataframe thead th {\n",
       "        text-align: right;\n",
       "    }\n",
       "</style>\n",
       "<table border=\"1\" class=\"dataframe\">\n",
       "  <thead>\n",
       "    <tr style=\"text-align: right;\">\n",
       "      <th></th>\n",
       "      <th>title</th>\n",
       "      <th>descrirption</th>\n",
       "      <th>product_id</th>\n",
       "      <th>category_id</th>\n",
       "      <th>subcategory_id</th>\n",
       "      <th>properties</th>\n",
       "      <th>image_links</th>\n",
       "    </tr>\n",
       "  </thead>\n",
       "  <tbody>\n",
       "    <tr>\n",
       "      <th>4649</th>\n",
       "      <td>Кепка человек паук размер 52-54</td>\n",
       "      <td>Кепка человек паук</td>\n",
       "      <td>NaN</td>\n",
       "      <td>NaN</td>\n",
       "      <td>NaN</td>\n",
       "      <td>NaN</td>\n",
       "      <td>NaN</td>\n",
       "    </tr>\n",
       "    <tr>\n",
       "      <th>4650</th>\n",
       "      <td>размер 52-54</td>\n",
       "      <td>NaN</td>\n",
       "      <td>NaN</td>\n",
       "      <td>NaN</td>\n",
       "      <td>NaN</td>\n",
       "      <td>NaN</td>\n",
       "      <td>NaN</td>\n",
       "    </tr>\n",
       "    <tr>\n",
       "      <th>4651</th>\n",
       "      <td>взади сетка</td>\n",
       "      <td>NaN</td>\n",
       "      <td>NaN</td>\n",
       "      <td>NaN</td>\n",
       "      <td>NaN</td>\n",
       "      <td>NaN</td>\n",
       "      <td>NaN</td>\n",
       "    </tr>\n",
       "    <tr>\n",
       "      <th>4652</th>\n",
       "      <td>----------</td>\n",
       "      <td>NaN</td>\n",
       "      <td>NaN</td>\n",
       "      <td>NaN</td>\n",
       "      <td>NaN</td>\n",
       "      <td>NaN</td>\n",
       "      <td>NaN</td>\n",
       "    </tr>\n",
       "    <tr>\n",
       "      <th>4653</th>\n",
       "      <td>Могу выслать в любой город Р.Ф.</td>\n",
       "      <td>NaN</td>\n",
       "      <td>NaN</td>\n",
       "      <td>NaN</td>\n",
       "      <td>NaN</td>\n",
       "      <td>NaN</td>\n",
       "      <td>NaN</td>\n",
       "    </tr>\n",
       "    <tr>\n",
       "      <th>26827</th>\n",
       "      <td>Лампа галогенная GU5.3,GU10 MR16 20,35,50,75Вт</td>\n",
       "      <td>camelion</td>\n",
       "      <td>NaN</td>\n",
       "      <td>NaN</td>\n",
       "      <td>NaN</td>\n",
       "      <td>NaN</td>\n",
       "      <td>NaN</td>\n",
       "    </tr>\n",
       "    <tr>\n",
       "      <th>26828</th>\n",
       "      <td>117шт*15р</td>\n",
       "      <td>NaN</td>\n",
       "      <td>NaN</td>\n",
       "      <td>NaN</td>\n",
       "      <td>NaN</td>\n",
       "      <td>NaN</td>\n",
       "      <td>NaN</td>\n",
       "    </tr>\n",
       "    <tr>\n",
       "      <th>27016</th>\n",
       "      <td>Кепка Minnie Mouse C прямым козырьком размер 5...</td>\n",
       "      <td>Кепка Minnie Mouse</td>\n",
       "      <td>NaN</td>\n",
       "      <td>NaN</td>\n",
       "      <td>NaN</td>\n",
       "      <td>NaN</td>\n",
       "      <td>NaN</td>\n",
       "    </tr>\n",
       "    <tr>\n",
       "      <th>27017</th>\n",
       "      <td>C прямым козырьком</td>\n",
       "      <td>NaN</td>\n",
       "      <td>NaN</td>\n",
       "      <td>NaN</td>\n",
       "      <td>NaN</td>\n",
       "      <td>NaN</td>\n",
       "      <td>NaN</td>\n",
       "    </tr>\n",
       "    <tr>\n",
       "      <th>27018</th>\n",
       "      <td>Размер 50-54</td>\n",
       "      <td>NaN</td>\n",
       "      <td>NaN</td>\n",
       "      <td>NaN</td>\n",
       "      <td>NaN</td>\n",
       "      <td>NaN</td>\n",
       "      <td>NaN</td>\n",
       "    </tr>\n",
       "    <tr>\n",
       "      <th>27019</th>\n",
       "      <td>----------</td>\n",
       "      <td>NaN</td>\n",
       "      <td>NaN</td>\n",
       "      <td>NaN</td>\n",
       "      <td>NaN</td>\n",
       "      <td>NaN</td>\n",
       "      <td>NaN</td>\n",
       "    </tr>\n",
       "    <tr>\n",
       "      <th>27020</th>\n",
       "      <td>Могу выслать в любой город Р.Ф.</td>\n",
       "      <td>NaN</td>\n",
       "      <td>NaN</td>\n",
       "      <td>NaN</td>\n",
       "      <td>NaN</td>\n",
       "      <td>NaN</td>\n",
       "      <td>NaN</td>\n",
       "    </tr>\n",
       "  </tbody>\n",
       "</table>\n",
       "</div>"
      ],
      "text/plain": [
       "                                                   title        descrirption  \\\n",
       "4649                     Кепка человек паук размер 52-54  Кепка человек паук   \n",
       "4650                                        размер 52-54                 NaN   \n",
       "4651                                         взади сетка                 NaN   \n",
       "4652                                          ----------                 NaN   \n",
       "4653                     Могу выслать в любой город Р.Ф.                 NaN   \n",
       "26827     Лампа галогенная GU5.3,GU10 MR16 20,35,50,75Вт            camelion   \n",
       "26828                                          117шт*15р                 NaN   \n",
       "27016  Кепка Minnie Mouse C прямым козырьком размер 5...  Кепка Minnie Mouse   \n",
       "27017                                 C прямым козырьком                 NaN   \n",
       "27018                                       Размер 50-54                 NaN   \n",
       "27019                                         ----------                 NaN   \n",
       "27020                    Могу выслать в любой город Р.Ф.                 NaN   \n",
       "\n",
       "      product_id  category_id subcategory_id properties image_links  \n",
       "4649         NaN          NaN            NaN        NaN         NaN  \n",
       "4650         NaN          NaN            NaN        NaN         NaN  \n",
       "4651         NaN          NaN            NaN        NaN         NaN  \n",
       "4652         NaN          NaN            NaN        NaN         NaN  \n",
       "4653         NaN          NaN            NaN        NaN         NaN  \n",
       "26827        NaN          NaN            NaN        NaN         NaN  \n",
       "26828        NaN          NaN            NaN        NaN         NaN  \n",
       "27016        NaN          NaN            NaN        NaN         NaN  \n",
       "27017        NaN          NaN            NaN        NaN         NaN  \n",
       "27018        NaN          NaN            NaN        NaN         NaN  \n",
       "27019        NaN          NaN            NaN        NaN         NaN  \n",
       "27020        NaN          NaN            NaN        NaN         NaN  "
      ]
     },
     "execution_count": 5,
     "metadata": {},
     "output_type": "execute_result"
    }
   ],
   "source": [
    "products[products['product_id'].isna()]"
   ]
  },
  {
   "cell_type": "code",
   "execution_count": 6,
   "metadata": {
    "execution": {
     "iopub.execute_input": "2021-10-07T14:20:18.284754Z",
     "iopub.status.busy": "2021-10-07T14:20:18.284421Z",
     "iopub.status.idle": "2021-10-07T14:20:18.307351Z",
     "shell.execute_reply": "2021-10-07T14:20:18.306373Z",
     "shell.execute_reply.started": "2021-10-07T14:20:18.284719Z"
    }
   },
   "outputs": [],
   "source": [
    "# Delete rows without product_id\n",
    "products.dropna(subset=['product_id'], inplace=True)"
   ]
  },
  {
   "cell_type": "code",
   "execution_count": 7,
   "metadata": {
    "execution": {
     "iopub.execute_input": "2021-10-07T14:20:25.452940Z",
     "iopub.status.busy": "2021-10-07T14:20:25.452666Z",
     "iopub.status.idle": "2021-10-07T14:20:25.483890Z",
     "shell.execute_reply": "2021-10-07T14:20:25.482882Z",
     "shell.execute_reply.started": "2021-10-07T14:20:25.452913Z"
    }
   },
   "outputs": [
    {
     "name": "stderr",
     "output_type": "stream",
     "text": [
      "/opt/conda/lib/python3.7/site-packages/pandas/core/frame.py:5042: SettingWithCopyWarning: \n",
      "A value is trying to be set on a copy of a slice from a DataFrame\n",
      "\n",
      "See the caveats in the documentation: https://pandas.pydata.org/pandas-docs/stable/user_guide/indexing.html#returning-a-view-versus-a-copy\n",
      "  errors=errors,\n",
      "/opt/conda/lib/python3.7/site-packages/pandas/core/generic.py:6392: SettingWithCopyWarning: \n",
      "A value is trying to be set on a copy of a slice from a DataFrame\n",
      "\n",
      "See the caveats in the documentation: https://pandas.pydata.org/pandas-docs/stable/user_guide/indexing.html#returning-a-view-versus-a-copy\n",
      "  return self._update_inplace(result)\n"
     ]
    }
   ],
   "source": [
    "products = products[['title', 'descrirption', 'product_id']]\n",
    "products.rename(columns={'descrirption': 'description'}, inplace=True)\n",
    "products['description'].fillna('', inplace=True)"
   ]
  },
  {
   "cell_type": "code",
   "execution_count": 8,
   "metadata": {
    "execution": {
     "iopub.execute_input": "2021-10-07T14:20:59.948738Z",
     "iopub.status.busy": "2021-10-07T14:20:59.948401Z",
     "iopub.status.idle": "2021-10-07T14:21:00.023490Z",
     "shell.execute_reply": "2021-10-07T14:21:00.022446Z",
     "shell.execute_reply.started": "2021-10-07T14:20:59.948708Z"
    }
   },
   "outputs": [
    {
     "name": "stdout",
     "output_type": "stream",
     "text": [
      "<class 'pandas.core.frame.DataFrame'>\n",
      "Int64Index: 35536 entries, 0 to 35547\n",
      "Data columns (total 4 columns):\n",
      " #   Column       Non-Null Count  Dtype \n",
      "---  ------       --------------  ----- \n",
      " 0   title        35536 non-null  string\n",
      " 1   description  35536 non-null  string\n",
      " 2   product_id   35536 non-null  string\n",
      " 3   text         35536 non-null  string\n",
      "dtypes: string(4)\n",
      "memory usage: 1.4 MB\n"
     ]
    },
    {
     "name": "stderr",
     "output_type": "stream",
     "text": [
      "/opt/conda/lib/python3.7/site-packages/ipykernel_launcher.py:1: SettingWithCopyWarning: \n",
      "A value is trying to be set on a copy of a slice from a DataFrame.\n",
      "Try using .loc[row_indexer,col_indexer] = value instead\n",
      "\n",
      "See the caveats in the documentation: https://pandas.pydata.org/pandas-docs/stable/user_guide/indexing.html#returning-a-view-versus-a-copy\n",
      "  \"\"\"Entry point for launching an IPython kernel.\n"
     ]
    }
   ],
   "source": [
    "products['text'] = products['title'] + ' ' + products['description']\n",
    "products = products.astype('string')\n",
    "products.info()"
   ]
  },
  {
   "cell_type": "code",
   "execution_count": 13,
   "metadata": {
    "execution": {
     "iopub.execute_input": "2021-10-07T14:32:36.686419Z",
     "iopub.status.busy": "2021-10-07T14:32:36.685807Z",
     "iopub.status.idle": "2021-10-07T14:32:36.931369Z",
     "shell.execute_reply": "2021-10-07T14:32:36.930738Z",
     "shell.execute_reply.started": "2021-10-07T14:32:36.686369Z"
    }
   },
   "outputs": [],
   "source": [
    "morpher = MorphAnalyzer()\n",
    "sw = set(get_stop_words(\"ru\"))\n",
    "exclude = set(string.punctuation)\n",
    "\n",
    "# The function for text processing\n",
    "def preprocess_txt(line):\n",
    "    spls = \"\".join(i for i in line.strip() if i not in exclude).split()\n",
    "    spls = [morpher.parse(i.lower())[0].normal_form for i in spls]\n",
    "    spls = [i for i in spls if i not in sw and i != \"\"]\n",
    "    return spls"
   ]
  },
  {
   "cell_type": "code",
   "execution_count": 14,
   "metadata": {
    "execution": {
     "iopub.execute_input": "2021-10-07T14:32:40.658457Z",
     "iopub.status.busy": "2021-10-07T14:32:40.657877Z",
     "iopub.status.idle": "2021-10-07T14:36:17.750714Z",
     "shell.execute_reply": "2021-10-07T14:36:17.749914Z",
     "shell.execute_reply.started": "2021-10-07T14:32:40.658412Z"
    }
   },
   "outputs": [],
   "source": [
    "products['text'] = products['text'].apply(preprocess_txt)"
   ]
  },
  {
   "cell_type": "code",
   "execution_count": 15,
   "metadata": {
    "execution": {
     "iopub.execute_input": "2021-10-07T14:36:17.752431Z",
     "iopub.status.busy": "2021-10-07T14:36:17.752094Z",
     "iopub.status.idle": "2021-10-07T14:36:17.755986Z",
     "shell.execute_reply": "2021-10-07T14:36:17.755211Z",
     "shell.execute_reply.started": "2021-10-07T14:36:17.752402Z"
    }
   },
   "outputs": [],
   "source": [
    "products.reset_index(drop=True, inplace=True)"
   ]
  },
  {
   "cell_type": "code",
   "execution_count": 16,
   "metadata": {
    "execution": {
     "iopub.execute_input": "2021-10-07T14:36:54.725315Z",
     "iopub.status.busy": "2021-10-07T14:36:54.724215Z",
     "iopub.status.idle": "2021-10-07T14:36:54.746555Z",
     "shell.execute_reply": "2021-10-07T14:36:54.745881Z",
     "shell.execute_reply.started": "2021-10-07T14:36:54.725259Z"
    }
   },
   "outputs": [
    {
     "data": {
      "text/html": [
       "<div>\n",
       "<style scoped>\n",
       "    .dataframe tbody tr th:only-of-type {\n",
       "        vertical-align: middle;\n",
       "    }\n",
       "\n",
       "    .dataframe tbody tr th {\n",
       "        vertical-align: top;\n",
       "    }\n",
       "\n",
       "    .dataframe thead th {\n",
       "        text-align: right;\n",
       "    }\n",
       "</style>\n",
       "<table border=\"1\" class=\"dataframe\">\n",
       "  <thead>\n",
       "    <tr style=\"text-align: right;\">\n",
       "      <th></th>\n",
       "      <th>title</th>\n",
       "      <th>description</th>\n",
       "      <th>product_id</th>\n",
       "      <th>text</th>\n",
       "    </tr>\n",
       "  </thead>\n",
       "  <tbody>\n",
       "    <tr>\n",
       "      <th>34810</th>\n",
       "      <td>Зимнее пальто с натуральным мехом</td>\n",
       "      <td>Зимнее пальто в черном цвете в наличии . Длина...</td>\n",
       "      <td>5bb11d8c65bcf18c5501f5fa</td>\n",
       "      <td>[зимний, пальто, натуральный, мех, зимний, пал...</td>\n",
       "    </tr>\n",
       "    <tr>\n",
       "      <th>4912</th>\n",
       "      <td>❗Джемпер новый</td>\n",
       "      <td>Джемпер новый из хлопка,\n",
       "🔸цвет серый меланж, \n",
       "...</td>\n",
       "      <td>5b9be467132ca525e70ad210</td>\n",
       "      <td>[❗джемпер, новый, джемпер, новый, хлопок, 🔸цве...</td>\n",
       "    </tr>\n",
       "    <tr>\n",
       "      <th>10116</th>\n",
       "      <td>Кеды детские (бу)</td>\n",
       "      <td>Продам детские кеды(бу) 1,2 фото размер 30,сос...</td>\n",
       "      <td>5ad85bb1f8efdc29c37f15d2</td>\n",
       "      <td>[кед, детский, бу, продать, детский, кедыба, 1...</td>\n",
       "    </tr>\n",
       "    <tr>\n",
       "      <th>25618</th>\n",
       "      <td>Детские кеды Gymboree!!!</td>\n",
       "      <td>Очень милые и симпатичные кедики американской ...</td>\n",
       "      <td>5c0cc83ade8854c9b9244937</td>\n",
       "      <td>[детский, кед, gymboree, милый, симпатичный, к...</td>\n",
       "    </tr>\n",
       "    <tr>\n",
       "      <th>14894</th>\n",
       "      <td>Сарафан</td>\n",
       "      <td>Новый!</td>\n",
       "      <td>5b3f9e202c593e0f471fd962</td>\n",
       "      <td>[сарафан, новый]</td>\n",
       "    </tr>\n",
       "  </tbody>\n",
       "</table>\n",
       "</div>"
      ],
      "text/plain": [
       "                                   title  \\\n",
       "34810  Зимнее пальто с натуральным мехом   \n",
       "4912                      ❗Джемпер новый   \n",
       "10116                  Кеды детские (бу)   \n",
       "25618           Детские кеды Gymboree!!!   \n",
       "14894                            Сарафан   \n",
       "\n",
       "                                             description  \\\n",
       "34810  Зимнее пальто в черном цвете в наличии . Длина...   \n",
       "4912   Джемпер новый из хлопка,\n",
       "🔸цвет серый меланж, \n",
       "...   \n",
       "10116  Продам детские кеды(бу) 1,2 фото размер 30,сос...   \n",
       "25618  Очень милые и симпатичные кедики американской ...   \n",
       "14894                                             Новый!   \n",
       "\n",
       "                     product_id  \\\n",
       "34810  5bb11d8c65bcf18c5501f5fa   \n",
       "4912   5b9be467132ca525e70ad210   \n",
       "10116  5ad85bb1f8efdc29c37f15d2   \n",
       "25618  5c0cc83ade8854c9b9244937   \n",
       "14894  5b3f9e202c593e0f471fd962   \n",
       "\n",
       "                                                    text  \n",
       "34810  [зимний, пальто, натуральный, мех, зимний, пал...  \n",
       "4912   [❗джемпер, новый, джемпер, новый, хлопок, 🔸цве...  \n",
       "10116  [кед, детский, бу, продать, детский, кедыба, 1...  \n",
       "25618  [детский, кед, gymboree, милый, симпатичный, к...  \n",
       "14894                                   [сарафан, новый]  "
      ]
     },
     "execution_count": 16,
     "metadata": {},
     "output_type": "execute_result"
    }
   ],
   "source": [
    "products.sample(5)"
   ]
  },
  {
   "cell_type": "code",
   "execution_count": 17,
   "metadata": {
    "execution": {
     "iopub.execute_input": "2021-10-07T14:36:55.884243Z",
     "iopub.status.busy": "2021-10-07T14:36:55.883769Z",
     "iopub.status.idle": "2021-10-07T14:36:56.676934Z",
     "shell.execute_reply": "2021-10-07T14:36:56.675956Z",
     "shell.execute_reply.started": "2021-10-07T14:36:55.884195Z"
    }
   },
   "outputs": [],
   "source": [
    "products.to_csv('prod_proc.csv')"
   ]
  },
  {
   "cell_type": "code",
   "execution_count": 18,
   "metadata": {
    "execution": {
     "iopub.execute_input": "2021-10-07T14:37:03.542427Z",
     "iopub.status.busy": "2021-10-07T14:37:03.541488Z",
     "iopub.status.idle": "2021-10-07T14:37:03.556056Z",
     "shell.execute_reply": "2021-10-07T14:37:03.555167Z",
     "shell.execute_reply.started": "2021-10-07T14:37:03.542371Z"
    }
   },
   "outputs": [],
   "source": [
    "prod_list = []\n",
    "for item in products['text'].values:\n",
    "    prod_list.append(item)"
   ]
  },
  {
   "cell_type": "code",
   "execution_count": 19,
   "metadata": {
    "execution": {
     "iopub.execute_input": "2021-10-07T14:37:04.889985Z",
     "iopub.status.busy": "2021-10-07T14:37:04.888983Z",
     "iopub.status.idle": "2021-10-07T14:37:10.358234Z",
     "shell.execute_reply": "2021-10-07T14:37:10.357220Z",
     "shell.execute_reply.started": "2021-10-07T14:37:04.889944Z"
    }
   },
   "outputs": [],
   "source": [
    "# Apply Word2Vec\n",
    "prod_list = [i for i in prod_list if len(i) > 2]\n",
    "model = Word2Vec(sentences=prod_list, vector_size=100, min_count=1, window=5)\n",
    "model.save(\"w2v_model_prod.model\")"
   ]
  },
  {
   "cell_type": "code",
   "execution_count": 20,
   "metadata": {
    "execution": {
     "iopub.execute_input": "2021-10-07T14:37:15.966146Z",
     "iopub.status.busy": "2021-10-07T14:37:15.965855Z",
     "iopub.status.idle": "2021-10-07T14:37:16.031535Z",
     "shell.execute_reply": "2021-10-07T14:37:16.030718Z",
     "shell.execute_reply.started": "2021-10-07T14:37:15.966114Z"
    }
   },
   "outputs": [],
   "source": [
    "# Store just the words + their trained embeddings.\n",
    "word_vectors = model.wv\n",
    "word_vectors.save(\"word2vec_prod.wordvectors\")\n",
    "\n",
    "# Load back with memory-mapping = read-only, shared across processes.\n",
    "#word_vectors = KeyedVectors.load(\"../input/models/word2vec.wordvectors\", mmap='r')"
   ]
  },
  {
   "cell_type": "code",
   "execution_count": 21,
   "metadata": {
    "execution": {
     "iopub.execute_input": "2021-10-07T14:37:17.825815Z",
     "iopub.status.busy": "2021-10-07T14:37:17.825395Z",
     "iopub.status.idle": "2021-10-07T14:37:17.829683Z",
     "shell.execute_reply": "2021-10-07T14:37:17.828855Z",
     "shell.execute_reply.started": "2021-10-07T14:37:17.825783Z"
    }
   },
   "outputs": [],
   "source": [
    "keys = word_vectors.key_to_index # dictionary of all words in Word2Vec model"
   ]
  },
  {
   "cell_type": "code",
   "execution_count": 22,
   "metadata": {
    "execution": {
     "iopub.execute_input": "2021-10-07T14:37:20.246879Z",
     "iopub.status.busy": "2021-10-07T14:37:20.246056Z",
     "iopub.status.idle": "2021-10-07T14:37:20.252392Z",
     "shell.execute_reply": "2021-10-07T14:37:20.251534Z",
     "shell.execute_reply.started": "2021-10-07T14:37:20.246837Z"
    }
   },
   "outputs": [
    {
     "data": {
      "text/plain": [
       "50410"
      ]
     },
     "execution_count": 22,
     "metadata": {},
     "output_type": "execute_result"
    }
   ],
   "source": [
    "len(keys)"
   ]
  },
  {
   "cell_type": "code",
   "execution_count": 24,
   "metadata": {
    "execution": {
     "iopub.execute_input": "2021-10-07T14:38:04.854886Z",
     "iopub.status.busy": "2021-10-07T14:38:04.854579Z",
     "iopub.status.idle": "2021-10-07T14:38:37.116821Z",
     "shell.execute_reply": "2021-10-07T14:38:37.115841Z",
     "shell.execute_reply.started": "2021-10-07T14:38:04.854856Z"
    }
   },
   "outputs": [
    {
     "data": {
      "text/plain": [
       "True"
      ]
     },
     "execution_count": 24,
     "metadata": {},
     "output_type": "execute_result"
    }
   ],
   "source": [
    "index = annoy.AnnoyIndex(100 ,'angular')\n",
    "\n",
    "index_map = {}\n",
    "\n",
    "for i in range(products.shape[0]):\n",
    "    reply = str(products['product_id'].loc[i]) + \" \" + str(products['title'].loc[i])\n",
    "    index_map[i] = reply\n",
    "    question = products['title'].loc[i]\n",
    "    question = preprocess_txt(question)\n",
    "    vector = np.zeros(100)\n",
    "    n_w2v = 0\n",
    "    for word in question:\n",
    "        if word in keys.keys():\n",
    "            vector += word_vectors[word]\n",
    "            n_w2v += 1\n",
    "    if n_w2v > 0:\n",
    "        vector = vector / n_w2v\n",
    "    index.add_item(i, vector)\n",
    "\n",
    "index.build(10)\n",
    "index.save('index_prod.ann')"
   ]
  },
  {
   "cell_type": "code",
   "execution_count": 27,
   "metadata": {
    "execution": {
     "iopub.execute_input": "2021-10-07T14:38:58.742165Z",
     "iopub.status.busy": "2021-10-07T14:38:58.741348Z",
     "iopub.status.idle": "2021-10-07T14:38:58.857993Z",
     "shell.execute_reply": "2021-10-07T14:38:58.857323Z",
     "shell.execute_reply.started": "2021-10-07T14:38:58.742122Z"
    }
   },
   "outputs": [],
   "source": [
    "with open('index_map_prod.json', 'w') as fp:\n",
    "    json.dump(index_map, fp)"
   ]
  }
 ],
 "metadata": {
  "kernelspec": {
   "display_name": "Python 3",
   "language": "python",
   "name": "python3"
  },
  "language_info": {
   "codemirror_mode": {
    "name": "ipython",
    "version": 3
   },
   "file_extension": ".py",
   "mimetype": "text/x-python",
   "name": "python",
   "nbconvert_exporter": "python",
   "pygments_lexer": "ipython3",
   "version": "3.7.6"
  }
 },
 "nbformat": 4,
 "nbformat_minor": 4
}
