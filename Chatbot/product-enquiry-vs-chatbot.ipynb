{
 "cells": [
  {
   "cell_type": "markdown",
   "metadata": {
    "execution": {
     "iopub.execute_input": "2021-10-07T15:10:38.714028Z",
     "iopub.status.busy": "2021-10-07T15:10:38.71364Z",
     "iopub.status.idle": "2021-10-07T15:10:38.737842Z",
     "shell.execute_reply": "2021-10-07T15:10:38.736155Z",
     "shell.execute_reply.started": "2021-10-07T15:10:38.713937Z"
    }
   },
   "source": [
    "# Product enquiry vs Chatbot"
   ]
  },
  {
   "cell_type": "code",
   "execution_count": 1,
   "metadata": {
    "execution": {
     "iopub.execute_input": "2021-10-08T09:19:50.866721Z",
     "iopub.status.busy": "2021-10-08T09:19:50.866411Z",
     "iopub.status.idle": "2021-10-08T09:20:03.014350Z",
     "shell.execute_reply": "2021-10-08T09:20:03.013320Z",
     "shell.execute_reply.started": "2021-10-08T09:19:50.866683Z"
    }
   },
   "outputs": [],
   "source": [
    "# pip install pymorphy2"
   ]
  },
  {
   "cell_type": "code",
   "execution_count": 3,
   "metadata": {
    "execution": {
     "iopub.execute_input": "2021-10-08T09:20:03.016415Z",
     "iopub.status.busy": "2021-10-08T09:20:03.016168Z",
     "iopub.status.idle": "2021-10-08T09:20:04.398264Z",
     "shell.execute_reply": "2021-10-08T09:20:04.397052Z",
     "shell.execute_reply.started": "2021-10-08T09:20:03.016388Z"
    }
   },
   "outputs": [],
   "source": [
    "import os\n",
    "import string\n",
    "import annoy\n",
    "import json\n",
    "import pickle\n",
    "\n",
    "from pymorphy2 import MorphAnalyzer\n",
    "from stop_words import get_stop_words\n",
    "from gensim.models import Word2Vec\n",
    "from sklearn.model_selection import train_test_split\n",
    "from sklearn.linear_model import LogisticRegression\n",
    "from sklearn.feature_extraction.text import TfidfVectorizer\n",
    "from gensim.models import KeyedVectors\n",
    "\n",
    "\n",
    "import numpy as np\n",
    "from tqdm import tqdm_notebook\n",
    "import pandas as pd"
   ]
  },
  {
   "cell_type": "code",
   "execution_count": 4,
   "metadata": {
    "execution": {
     "iopub.execute_input": "2021-10-08T09:20:04.400237Z",
     "iopub.status.busy": "2021-10-08T09:20:04.399843Z",
     "iopub.status.idle": "2021-10-08T09:20:04.783027Z",
     "shell.execute_reply": "2021-10-08T09:20:04.782302Z",
     "shell.execute_reply.started": "2021-10-08T09:20:04.400193Z"
    }
   },
   "outputs": [],
   "source": [
    "morpher = MorphAnalyzer()\n",
    "sw = set(get_stop_words(\"ru\"))\n",
    "exclude = set(string.punctuation)\n",
    "\n",
    "def preprocess_txt(line):\n",
    "    spls = \"\".join(i for i in line.strip() if i not in exclude).split()\n",
    "    spls = [morpher.parse(i.lower())[0].normal_form for i in spls]\n",
    "    spls = [i for i in spls if i not in sw and i != \"\"]\n",
    "    return spls"
   ]
  },
  {
   "cell_type": "code",
   "execution_count": 10,
   "metadata": {
    "execution": {
     "iopub.execute_input": "2021-10-08T09:23:24.245127Z",
     "iopub.status.busy": "2021-10-08T09:23:24.244458Z",
     "iopub.status.idle": "2021-10-08T09:23:24.546478Z",
     "shell.execute_reply": "2021-10-08T09:23:24.545577Z",
     "shell.execute_reply.started": "2021-10-08T09:23:24.245081Z"
    }
   },
   "outputs": [],
   "source": [
    "# Upload vectorizer\n",
    "with open('../input/vectoriver-title/vectorizer_title.pk' , 'rb') as f:\n",
    "    vectorizer = pickle.load(f)"
   ]
  },
  {
   "cell_type": "code",
   "execution_count": 6,
   "metadata": {
    "execution": {
     "iopub.execute_input": "2021-10-08T09:20:26.728448Z",
     "iopub.status.busy": "2021-10-08T09:20:26.728012Z",
     "iopub.status.idle": "2021-10-08T09:20:26.762093Z",
     "shell.execute_reply": "2021-10-08T09:20:26.761154Z",
     "shell.execute_reply.started": "2021-10-08T09:20:26.728419Z"
    }
   },
   "outputs": [],
   "source": [
    "# Upload ML model\n",
    "with open('../input/pickled-model-svm/svm_model_pkl' , 'rb') as f:\n",
    "    model = pickle.load(f)"
   ]
  },
  {
   "cell_type": "code",
   "execution_count": 34,
   "metadata": {
    "execution": {
     "iopub.execute_input": "2021-10-08T09:35:23.347721Z",
     "iopub.status.busy": "2021-10-08T09:35:23.347358Z",
     "iopub.status.idle": "2021-10-08T09:35:23.352815Z",
     "shell.execute_reply": "2021-10-08T09:35:23.351761Z",
     "shell.execute_reply.started": "2021-10-08T09:35:23.347692Z"
    }
   },
   "outputs": [],
   "source": [
    "index = annoy.AnnoyIndex(100, metric='angular')\n",
    "#index.load('../input/final-chatbot/speaker.ann')\n",
    "\n",
    "#index_prod = annoy.AnnoyIndex(100, metric='angular')\n",
    "#index_prod.load('../input/final-products/index_prod.ann')"
   ]
  },
  {
   "cell_type": "code",
   "execution_count": 38,
   "metadata": {
    "execution": {
     "iopub.execute_input": "2021-10-08T09:36:07.188089Z",
     "iopub.status.busy": "2021-10-08T09:36:07.187790Z",
     "iopub.status.idle": "2021-10-08T09:36:07.797035Z",
     "shell.execute_reply": "2021-10-08T09:36:07.796208Z",
     "shell.execute_reply.started": "2021-10-08T09:36:07.188062Z"
    }
   },
   "outputs": [],
   "source": [
    "# Upload word vectors\n",
    "\n",
    "word_vectors_chat = KeyedVectors.load(\"../input/final-chatbot-word2vec/word2vec.wordvectors\", mmap='r')\n",
    "keys_chat = word_vectors.key_to_index\n",
    "\n",
    "word_vectors_prod = KeyedVectors.load(\"../input/final-products/word2vec_prod.wordvectors\", mmap='r')\n",
    "keys_prod = word_vectors_prod.key_to_index"
   ]
  },
  {
   "cell_type": "code",
   "execution_count": 39,
   "metadata": {
    "execution": {
     "iopub.execute_input": "2021-10-08T09:36:09.216038Z",
     "iopub.status.busy": "2021-10-08T09:36:09.215746Z",
     "iopub.status.idle": "2021-10-08T09:37:00.788119Z",
     "shell.execute_reply": "2021-10-08T09:37:00.787323Z",
     "shell.execute_reply.started": "2021-10-08T09:36:09.216011Z"
    }
   },
   "outputs": [],
   "source": [
    "# Upload index maps\n",
    "\n",
    "with open('../input/final-chatbot/index_map.json') as json_file:\n",
    "    index_map_chat = json.load(json_file)\n",
    "\n",
    "with open('../input/final-products/index_map_prod.json') as json_file:\n",
    "    index_map_prod = json.load(json_file)"
   ]
  },
  {
   "cell_type": "code",
   "execution_count": 40,
   "metadata": {
    "execution": {
     "iopub.execute_input": "2021-10-08T09:37:00.790395Z",
     "iopub.status.busy": "2021-10-08T09:37:00.789586Z",
     "iopub.status.idle": "2021-10-08T09:37:00.798886Z",
     "shell.execute_reply": "2021-10-08T09:37:00.798096Z",
     "shell.execute_reply.started": "2021-10-08T09:37:00.790331Z"
    }
   },
   "outputs": [],
   "source": [
    "def get_answer(question):\n",
    "    \n",
    "    word_vectors = word_vectors_chat\n",
    "    keys = keys_chat\n",
    "    index.load('../input/final-chatbot/speaker.ann')\n",
    "    index_map = index_map_chat\n",
    "    \n",
    "    preprocessed_question = preprocess_txt(question)\n",
    "    preprocessed_question_vec = vectorizer.transform([' '.join(preprocessed_question)])  \n",
    "    \n",
    "    prediction = model.predict(preprocessed_question_vec)\n",
    "    \n",
    "\n",
    "    \n",
    "    if prediction == 1:\n",
    "        \n",
    "        word_vectors = word_vectors_prod\n",
    "        keys = keys_prod\n",
    "        index.load('../input/final-products/index_prod.ann')\n",
    "        index_map = index_map_prod\n",
    "\n",
    "    n_w2v = 0\n",
    "    vector = np.zeros(100)\n",
    "    for word in preprocessed_question:\n",
    "        if word in keys.keys():\n",
    "            vector += word_vectors[word]\n",
    "            n_w2v += 1\n",
    "    if n_w2v > 0:\n",
    "        vector = vector / n_w2v\n",
    "    answer_index = index.get_nns_by_vector(vector, 1)\n",
    "    return index_map[str(answer_index[0])]        "
   ]
  },
  {
   "cell_type": "code",
   "execution_count": 15,
   "metadata": {
    "execution": {
     "iopub.execute_input": "2021-10-08T09:24:08.939444Z",
     "iopub.status.busy": "2021-10-08T09:24:08.939127Z",
     "iopub.status.idle": "2021-10-08T09:25:13.724098Z",
     "shell.execute_reply": "2021-10-08T09:25:13.723420Z",
     "shell.execute_reply.started": "2021-10-08T09:24:08.939413Z"
    }
   },
   "outputs": [],
   "source": [
    "\n",
    "assert(get_answer('Юбка детская ORBY').startswith('58e3cfe6132ca50e053f5f82'))"
   ]
  },
  {
   "cell_type": "code",
   "execution_count": 41,
   "metadata": {
    "execution": {
     "iopub.execute_input": "2021-10-08T09:37:00.800504Z",
     "iopub.status.busy": "2021-10-08T09:37:00.800103Z",
     "iopub.status.idle": "2021-10-08T09:37:00.989155Z",
     "shell.execute_reply": "2021-10-08T09:37:00.988193Z",
     "shell.execute_reply.started": "2021-10-08T09:37:00.800471Z"
    }
   },
   "outputs": [
    {
     "data": {
      "text/plain": [
       "'58e3cfe6132ca50e053f5f82 Юбка детская ORBY'"
      ]
     },
     "execution_count": 41,
     "metadata": {},
     "output_type": "execute_result"
    }
   ],
   "source": [
    "get_answer('Юбка детская ORBY')"
   ]
  },
  {
   "cell_type": "code",
   "execution_count": 16,
   "metadata": {
    "execution": {
     "iopub.execute_input": "2021-10-08T09:25:13.726201Z",
     "iopub.status.busy": "2021-10-08T09:25:13.725391Z",
     "iopub.status.idle": "2021-10-08T09:26:07.192675Z",
     "shell.execute_reply": "2021-10-08T09:26:07.190985Z",
     "shell.execute_reply.started": "2021-10-08T09:25:13.726155Z"
    }
   },
   "outputs": [],
   "source": [
    "assert(not get_answer('Где ключи от танка').startswith('5')) "
   ]
  },
  {
   "cell_type": "code",
   "execution_count": 42,
   "metadata": {
    "execution": {
     "iopub.execute_input": "2021-10-08T09:37:06.543719Z",
     "iopub.status.busy": "2021-10-08T09:37:06.543439Z",
     "iopub.status.idle": "2021-10-08T09:37:06.557246Z",
     "shell.execute_reply": "2021-10-08T09:37:06.556466Z",
     "shell.execute_reply.started": "2021-10-08T09:37:06.543691Z"
    }
   },
   "outputs": [
    {
     "data": {
      "text/plain": [
       "'у миня мод есть на прокачку, двойной. классный. \\n'"
      ]
     },
     "execution_count": 42,
     "metadata": {},
     "output_type": "execute_result"
    }
   ],
   "source": [
    "get_answer('Где ключи от танка')"
   ]
  },
  {
   "cell_type": "code",
   "execution_count": null,
   "metadata": {},
   "outputs": [],
   "source": []
  }
 ],
 "metadata": {
  "kernelspec": {
   "display_name": "Python 3",
   "language": "python",
   "name": "python3"
  },
  "language_info": {
   "codemirror_mode": {
    "name": "ipython",
    "version": 3
   },
   "file_extension": ".py",
   "mimetype": "text/x-python",
   "name": "python",
   "nbconvert_exporter": "python",
   "pygments_lexer": "ipython3",
   "version": "3.7.6"
  }
 },
 "nbformat": 4,
 "nbformat_minor": 4
}
