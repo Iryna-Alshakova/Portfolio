{
 "cells": [
  {
   "cell_type": "markdown",
   "metadata": {
    "execution": {
     "iopub.execute_input": "2021-10-07T15:10:38.714028Z",
     "iopub.status.busy": "2021-10-07T15:10:38.71364Z",
     "iopub.status.idle": "2021-10-07T15:10:38.737842Z",
     "shell.execute_reply": "2021-10-07T15:10:38.736155Z",
     "shell.execute_reply.started": "2021-10-07T15:10:38.713937Z"
    }
   },
   "source": [
    "# ML model"
   ]
  },
  {
   "cell_type": "code",
   "execution_count": 1,
   "metadata": {
    "execution": {
     "iopub.execute_input": "2021-10-08T09:45:46.329361Z",
     "iopub.status.busy": "2021-10-08T09:45:46.328547Z",
     "iopub.status.idle": "2021-10-08T09:46:01.463928Z",
     "shell.execute_reply": "2021-10-08T09:46:01.462980Z",
     "shell.execute_reply.started": "2021-10-08T09:45:46.329253Z"
    }
   },
   "outputs": [],
   "source": [
    "#pip install pymorphy2"
   ]
  },
  {
   "cell_type": "code",
   "execution_count": 2,
   "metadata": {
    "execution": {
     "iopub.execute_input": "2021-10-08T09:46:01.466951Z",
     "iopub.status.busy": "2021-10-08T09:46:01.466594Z",
     "iopub.status.idle": "2021-10-08T09:46:02.743985Z",
     "shell.execute_reply": "2021-10-08T09:46:02.743300Z",
     "shell.execute_reply.started": "2021-10-08T09:46:01.466906Z"
    }
   },
   "outputs": [],
   "source": [
    "import os\n",
    "import string\n",
    "import annoy\n",
    "import json\n",
    "import pickle\n",
    "\n",
    "from pymorphy2 import MorphAnalyzer\n",
    "from stop_words import get_stop_words\n",
    "from gensim.models import Word2Vec\n",
    "from sklearn.model_selection import train_test_split\n",
    "from sklearn.linear_model import LogisticRegression\n",
    "from sklearn.svm import LinearSVC\n",
    "from sklearn.feature_extraction.text import TfidfVectorizer\n",
    "\n",
    "\n",
    "import numpy as np\n",
    "from tqdm import tqdm_notebook\n",
    "import pandas as pd"
   ]
  },
  {
   "cell_type": "code",
   "execution_count": 3,
   "metadata": {
    "execution": {
     "iopub.execute_input": "2021-10-08T09:46:02.745747Z",
     "iopub.status.busy": "2021-10-08T09:46:02.745027Z",
     "iopub.status.idle": "2021-10-08T09:46:03.460123Z",
     "shell.execute_reply": "2021-10-08T09:46:03.459433Z",
     "shell.execute_reply.started": "2021-10-08T09:46:02.745713Z"
    }
   },
   "outputs": [
    {
     "data": {
      "text/html": [
       "<div>\n",
       "<style scoped>\n",
       "    .dataframe tbody tr th:only-of-type {\n",
       "        vertical-align: middle;\n",
       "    }\n",
       "\n",
       "    .dataframe tbody tr th {\n",
       "        vertical-align: top;\n",
       "    }\n",
       "\n",
       "    .dataframe thead th {\n",
       "        text-align: right;\n",
       "    }\n",
       "</style>\n",
       "<table border=\"1\" class=\"dataframe\">\n",
       "  <thead>\n",
       "    <tr style=\"text-align: right;\">\n",
       "      <th></th>\n",
       "      <th>title</th>\n",
       "      <th>descrirption</th>\n",
       "      <th>product_id</th>\n",
       "      <th>category_id</th>\n",
       "      <th>subcategory_id</th>\n",
       "      <th>properties</th>\n",
       "      <th>image_links</th>\n",
       "    </tr>\n",
       "  </thead>\n",
       "  <tbody>\n",
       "    <tr>\n",
       "      <th>0</th>\n",
       "      <td>Юбка детская ORBY</td>\n",
       "      <td>Новая, не носили ни разу. В реале красивей чем...</td>\n",
       "      <td>58e3cfe6132ca50e053f5f82</td>\n",
       "      <td>22.0</td>\n",
       "      <td>2211</td>\n",
       "      <td>{'detskie_razmer_rost': '81-86 (1,5 года)'}</td>\n",
       "      <td>http://cache3.youla.io/files/images/360_360/58...</td>\n",
       "    </tr>\n",
       "    <tr>\n",
       "      <th>1</th>\n",
       "      <td>Ботильоны</td>\n",
       "      <td>Новые,привезены из Чехии ,указан размер 40,но ...</td>\n",
       "      <td>5667531b2b7f8d127d838c34</td>\n",
       "      <td>9.0</td>\n",
       "      <td>902</td>\n",
       "      <td>{'zhenskaya_odezhda_tzvet': 'Зеленый', 'visota...</td>\n",
       "      <td>http://cache3.youla.io/files/images/360_360/5b...</td>\n",
       "    </tr>\n",
       "    <tr>\n",
       "      <th>2</th>\n",
       "      <td>Брюки</td>\n",
       "      <td>Размер 40-42. Брюки почти новые - не знаю как ...</td>\n",
       "      <td>59534826aaab284cba337e06</td>\n",
       "      <td>9.0</td>\n",
       "      <td>906</td>\n",
       "      <td>{'zhenskaya_odezhda_dzhinsy_bryuki_tip': 'Брюк...</td>\n",
       "      <td>http://cache3.youla.io/files/images/360_360/59...</td>\n",
       "    </tr>\n",
       "    <tr>\n",
       "      <th>3</th>\n",
       "      <td>Продам детские шапки</td>\n",
       "      <td>Продам шапки,кажда 200р.Розовая и белая проданны.</td>\n",
       "      <td>57de544096ad842e26de8027</td>\n",
       "      <td>22.0</td>\n",
       "      <td>2217</td>\n",
       "      <td>{'detskie_pol': 'Девочкам', 'detskaya_odezhda_...</td>\n",
       "      <td>http://cache3.youla.io/files/images/360_360/57...</td>\n",
       "    </tr>\n",
       "    <tr>\n",
       "      <th>4</th>\n",
       "      <td>Блузка</td>\n",
       "      <td>Темно-синяя, 42 размер,состояние отличное,как ...</td>\n",
       "      <td>5ad4d2626c86cb168d212022</td>\n",
       "      <td>9.0</td>\n",
       "      <td>907</td>\n",
       "      <td>{'zhenskaya_odezhda_tzvet': 'Синий', 'zhenskay...</td>\n",
       "      <td>http://cache3.youla.io/files/images/360_360/5a...</td>\n",
       "    </tr>\n",
       "    <tr>\n",
       "      <th>...</th>\n",
       "      <td>...</td>\n",
       "      <td>...</td>\n",
       "      <td>...</td>\n",
       "      <td>...</td>\n",
       "      <td>...</td>\n",
       "      <td>...</td>\n",
       "      <td>...</td>\n",
       "    </tr>\n",
       "    <tr>\n",
       "      <th>35543</th>\n",
       "      <td>Юбка</td>\n",
       "      <td>Юбка Белая по.Турция фирма adL</td>\n",
       "      <td>5b5f181c62e1c6616a7f6472</td>\n",
       "      <td>9.0</td>\n",
       "      <td>904</td>\n",
       "      <td>{'zhenskaya_odezhda_platya_yubki_tip': 'Юбки',...</td>\n",
       "      <td>http://cache3.youla.io/files/images/360_360/5b...</td>\n",
       "    </tr>\n",
       "    <tr>\n",
       "      <th>35544</th>\n",
       "      <td>Новый твидовый пиджак</td>\n",
       "      <td>Новый с бирками пиджак размер S в стиле Coco C...</td>\n",
       "      <td>5bd6c8b29e94ba033d31f8d0</td>\n",
       "      <td>9.0</td>\n",
       "      <td>908</td>\n",
       "      <td>{'brand_zhenskii': 'Chanel', 'zhenskaya_odezhd...</td>\n",
       "      <td>http://cache3.youla.io/files/images/360_360/5b...</td>\n",
       "    </tr>\n",
       "    <tr>\n",
       "      <th>35545</th>\n",
       "      <td>Женская зимняя куртка</td>\n",
       "      <td>Женская зимняя спортивная куртка фирмы Rossiqn...</td>\n",
       "      <td>5bd6c8bc074b3e1c056f69b2</td>\n",
       "      <td>9.0</td>\n",
       "      <td>903</td>\n",
       "      <td>{'zhenskaya_odezhda_razmer': '48-50 (XL)', 'zh...</td>\n",
       "      <td>http://cache3.youla.io/files/images/360_360/5b...</td>\n",
       "    </tr>\n",
       "    <tr>\n",
       "      <th>35546</th>\n",
       "      <td>Новая золотая ветровка</td>\n",
       "      <td>Женская ветровка размер 44-46. Цвет приглушённ...</td>\n",
       "      <td>5bd6c8fb2138bbc55745362c</td>\n",
       "      <td>9.0</td>\n",
       "      <td>903</td>\n",
       "      <td>{'zhenskaya_odezhda_razmer': '44-46 (М)', 'zhe...</td>\n",
       "      <td>http://cache3.youla.io/files/images/360_360/5b...</td>\n",
       "    </tr>\n",
       "    <tr>\n",
       "      <th>35547</th>\n",
       "      <td>Шарф</td>\n",
       "      <td>NaN</td>\n",
       "      <td>5bd6c8fbaaab283b79142a1f</td>\n",
       "      <td>9.0</td>\n",
       "      <td>914</td>\n",
       "      <td>{'zhenskaya_odezhda_aksessuary_tip': 'Шарфы и ...</td>\n",
       "      <td>http://cache3.youla.io/files/images/360_360/5b...</td>\n",
       "    </tr>\n",
       "  </tbody>\n",
       "</table>\n",
       "<p>35548 rows × 7 columns</p>\n",
       "</div>"
      ],
      "text/plain": [
       "                        title  \\\n",
       "0           Юбка детская ORBY   \n",
       "1                   Ботильоны   \n",
       "2                       Брюки   \n",
       "3        Продам детские шапки   \n",
       "4                      Блузка   \n",
       "...                       ...   \n",
       "35543                    Юбка   \n",
       "35544   Новый твидовый пиджак   \n",
       "35545   Женская зимняя куртка   \n",
       "35546  Новая золотая ветровка   \n",
       "35547                    Шарф   \n",
       "\n",
       "                                            descrirption  \\\n",
       "0      Новая, не носили ни разу. В реале красивей чем...   \n",
       "1      Новые,привезены из Чехии ,указан размер 40,но ...   \n",
       "2      Размер 40-42. Брюки почти новые - не знаю как ...   \n",
       "3      Продам шапки,кажда 200р.Розовая и белая проданны.   \n",
       "4      Темно-синяя, 42 размер,состояние отличное,как ...   \n",
       "...                                                  ...   \n",
       "35543                     Юбка Белая по.Турция фирма adL   \n",
       "35544  Новый с бирками пиджак размер S в стиле Coco C...   \n",
       "35545  Женская зимняя спортивная куртка фирмы Rossiqn...   \n",
       "35546  Женская ветровка размер 44-46. Цвет приглушённ...   \n",
       "35547                                                NaN   \n",
       "\n",
       "                     product_id  category_id subcategory_id  \\\n",
       "0      58e3cfe6132ca50e053f5f82         22.0           2211   \n",
       "1      5667531b2b7f8d127d838c34          9.0            902   \n",
       "2      59534826aaab284cba337e06          9.0            906   \n",
       "3      57de544096ad842e26de8027         22.0           2217   \n",
       "4      5ad4d2626c86cb168d212022          9.0            907   \n",
       "...                         ...          ...            ...   \n",
       "35543  5b5f181c62e1c6616a7f6472          9.0            904   \n",
       "35544  5bd6c8b29e94ba033d31f8d0          9.0            908   \n",
       "35545  5bd6c8bc074b3e1c056f69b2          9.0            903   \n",
       "35546  5bd6c8fb2138bbc55745362c          9.0            903   \n",
       "35547  5bd6c8fbaaab283b79142a1f          9.0            914   \n",
       "\n",
       "                                              properties  \\\n",
       "0            {'detskie_razmer_rost': '81-86 (1,5 года)'}   \n",
       "1      {'zhenskaya_odezhda_tzvet': 'Зеленый', 'visota...   \n",
       "2      {'zhenskaya_odezhda_dzhinsy_bryuki_tip': 'Брюк...   \n",
       "3      {'detskie_pol': 'Девочкам', 'detskaya_odezhda_...   \n",
       "4      {'zhenskaya_odezhda_tzvet': 'Синий', 'zhenskay...   \n",
       "...                                                  ...   \n",
       "35543  {'zhenskaya_odezhda_platya_yubki_tip': 'Юбки',...   \n",
       "35544  {'brand_zhenskii': 'Chanel', 'zhenskaya_odezhd...   \n",
       "35545  {'zhenskaya_odezhda_razmer': '48-50 (XL)', 'zh...   \n",
       "35546  {'zhenskaya_odezhda_razmer': '44-46 (М)', 'zhe...   \n",
       "35547  {'zhenskaya_odezhda_aksessuary_tip': 'Шарфы и ...   \n",
       "\n",
       "                                             image_links  \n",
       "0      http://cache3.youla.io/files/images/360_360/58...  \n",
       "1      http://cache3.youla.io/files/images/360_360/5b...  \n",
       "2      http://cache3.youla.io/files/images/360_360/59...  \n",
       "3      http://cache3.youla.io/files/images/360_360/57...  \n",
       "4      http://cache3.youla.io/files/images/360_360/5a...  \n",
       "...                                                  ...  \n",
       "35543  http://cache3.youla.io/files/images/360_360/5b...  \n",
       "35544  http://cache3.youla.io/files/images/360_360/5b...  \n",
       "35545  http://cache3.youla.io/files/images/360_360/5b...  \n",
       "35546  http://cache3.youla.io/files/images/360_360/5b...  \n",
       "35547  http://cache3.youla.io/files/images/360_360/5b...  \n",
       "\n",
       "[35548 rows x 7 columns]"
      ]
     },
     "execution_count": 3,
     "metadata": {},
     "output_type": "execute_result"
    }
   ],
   "source": [
    "products = pd.read_csv('../input/products/ProductsDataset.csv')\n",
    "products"
   ]
  },
  {
   "cell_type": "code",
   "execution_count": 4,
   "metadata": {
    "execution": {
     "iopub.execute_input": "2021-10-08T09:46:03.462465Z",
     "iopub.status.busy": "2021-10-08T09:46:03.461800Z",
     "iopub.status.idle": "2021-10-08T09:46:03.830447Z",
     "shell.execute_reply": "2021-10-08T09:46:03.829787Z",
     "shell.execute_reply.started": "2021-10-08T09:46:03.462429Z"
    }
   },
   "outputs": [],
   "source": [
    "morpher = MorphAnalyzer()\n",
    "sw = set(get_stop_words(\"ru\"))\n",
    "exclude = set(string.punctuation)\n",
    "\n",
    "def preprocess_txt(line):\n",
    "    #spls = \"\".join(i for i in line.strip() if i not in exclude).split()\n",
    "    spls = \"\".join(i for i in line.strip() if i not in exclude).split()\n",
    "    spls = [morpher.parse(i.lower())[0].normal_form for i in spls]\n",
    "    spls = [i for i in spls if i not in sw and i != \"\"]\n",
    "    return spls"
   ]
  },
  {
   "cell_type": "code",
   "execution_count": 5,
   "metadata": {
    "execution": {
     "iopub.execute_input": "2021-10-08T09:46:03.832136Z",
     "iopub.status.busy": "2021-10-08T09:46:03.831550Z",
     "iopub.status.idle": "2021-10-08T09:46:29.566565Z",
     "shell.execute_reply": "2021-10-08T09:46:29.565894Z",
     "shell.execute_reply.started": "2021-10-08T09:46:03.832101Z"
    }
   },
   "outputs": [],
   "source": [
    "products['title'] = products['title'].apply(preprocess_txt)"
   ]
  },
  {
   "cell_type": "code",
   "execution_count": 6,
   "metadata": {
    "execution": {
     "iopub.execute_input": "2021-10-08T09:46:29.568258Z",
     "iopub.status.busy": "2021-10-08T09:46:29.567533Z",
     "iopub.status.idle": "2021-10-08T10:00:19.096440Z",
     "shell.execute_reply": "2021-10-08T10:00:19.095433Z",
     "shell.execute_reply.started": "2021-10-08T09:46:29.568227Z"
    }
   },
   "outputs": [
    {
     "name": "stderr",
     "output_type": "stream",
     "text": [
      "/opt/conda/lib/python3.7/site-packages/ipykernel_launcher.py:5: TqdmDeprecationWarning: This function will be removed in tqdm==5.0.0\n",
      "Please use `tqdm.notebook.tqdm` instead of `tqdm.tqdm_notebook`\n",
      "  \"\"\"\n"
     ]
    },
    {
     "data": {
      "application/vnd.jupyter.widget-view+json": {
       "model_id": "cd2afa8070d74714a92e89499754c4b1",
       "version_major": 2,
       "version_minor": 0
      },
      "text/plain": [
       "0it [00:00, ?it/s]"
      ]
     },
     "metadata": {},
     "output_type": "display_data"
    }
   ],
   "source": [
    "#Add possible requests that do not contain products enquiries\n",
    "sentences = []\n",
    "c = 0\n",
    "with open(\"../input/otvety/Otvety.txt\", \"r\") as fin:\n",
    "    for line in tqdm_notebook(fin):\n",
    "        spls = preprocess_txt(line)\n",
    "        sentences.append(spls)\n",
    "        c += 1\n",
    "        if c > 125000:\n",
    "            break"
   ]
  },
  {
   "cell_type": "code",
   "execution_count": 7,
   "metadata": {
    "execution": {
     "iopub.execute_input": "2021-10-08T10:00:19.098476Z",
     "iopub.status.busy": "2021-10-08T10:00:19.098135Z",
     "iopub.status.idle": "2021-10-08T10:00:19.106788Z",
     "shell.execute_reply": "2021-10-08T10:00:19.105874Z",
     "shell.execute_reply.started": "2021-10-08T10:00:19.098430Z"
    }
   },
   "outputs": [
    {
     "data": {
      "text/plain": [
       "[[],\n",
       " [],\n",
       " ['вопрос', 'тдв', 'отдыхать', 'лично', 'советовать', 'завести'],\n",
       " ['хомячок'],\n",
       " ['мужик', 'йопарить', 'собачка', '50', 'кошка']]"
      ]
     },
     "execution_count": 7,
     "metadata": {},
     "output_type": "execute_result"
    }
   ],
   "source": [
    "sentences[:5]"
   ]
  },
  {
   "cell_type": "code",
   "execution_count": 8,
   "metadata": {
    "execution": {
     "iopub.execute_input": "2021-10-08T10:00:19.108584Z",
     "iopub.status.busy": "2021-10-08T10:00:19.108330Z",
     "iopub.status.idle": "2021-10-08T10:00:19.404828Z",
     "shell.execute_reply": "2021-10-08T10:00:19.404003Z",
     "shell.execute_reply.started": "2021-10-08T10:00:19.108557Z"
    }
   },
   "outputs": [],
   "source": [
    "# Some results are just emplty lists\n",
    "i = 0\n",
    "for item in sentences:\n",
    "    if item == []:\n",
    "        sentences.pop(i)\n",
    "    i += 1"
   ]
  },
  {
   "cell_type": "code",
   "execution_count": 9,
   "metadata": {
    "execution": {
     "iopub.execute_input": "2021-10-08T10:00:19.406384Z",
     "iopub.status.busy": "2021-10-08T10:00:19.406161Z",
     "iopub.status.idle": "2021-10-08T10:00:19.411403Z",
     "shell.execute_reply": "2021-10-08T10:00:19.410554Z",
     "shell.execute_reply.started": "2021-10-08T10:00:19.406359Z"
    }
   },
   "outputs": [
    {
     "data": {
      "text/plain": [
       "104574"
      ]
     },
     "execution_count": 9,
     "metadata": {},
     "output_type": "execute_result"
    }
   ],
   "source": [
    "len(sentences)"
   ]
  },
  {
   "cell_type": "code",
   "execution_count": 10,
   "metadata": {
    "execution": {
     "iopub.execute_input": "2021-10-08T10:00:19.414668Z",
     "iopub.status.busy": "2021-10-08T10:00:19.414454Z",
     "iopub.status.idle": "2021-10-08T10:00:19.442737Z",
     "shell.execute_reply": "2021-10-08T10:00:19.441907Z",
     "shell.execute_reply.started": "2021-10-08T10:00:19.414645Z"
    }
   },
   "outputs": [
    {
     "data": {
      "text/html": [
       "<div>\n",
       "<style scoped>\n",
       "    .dataframe tbody tr th:only-of-type {\n",
       "        vertical-align: middle;\n",
       "    }\n",
       "\n",
       "    .dataframe tbody tr th {\n",
       "        vertical-align: top;\n",
       "    }\n",
       "\n",
       "    .dataframe thead th {\n",
       "        text-align: right;\n",
       "    }\n",
       "</style>\n",
       "<table border=\"1\" class=\"dataframe\">\n",
       "  <thead>\n",
       "    <tr style=\"text-align: right;\">\n",
       "      <th></th>\n",
       "      <th>title</th>\n",
       "      <th>descrirption</th>\n",
       "      <th>product_id</th>\n",
       "      <th>category_id</th>\n",
       "      <th>subcategory_id</th>\n",
       "      <th>properties</th>\n",
       "      <th>image_links</th>\n",
       "      <th>label</th>\n",
       "    </tr>\n",
       "  </thead>\n",
       "  <tbody>\n",
       "    <tr>\n",
       "      <th>7546</th>\n",
       "      <td>[брюки]</td>\n",
       "      <td>Брюки для девочек</td>\n",
       "      <td>5bdbdb32bd36c06af8597d08</td>\n",
       "      <td>22.0</td>\n",
       "      <td>2216</td>\n",
       "      <td>{'sostojanie_garderob': 'Б/у', 'detskie_pol': ...</td>\n",
       "      <td>http://cache3.youla.io/files/images/360_360/5b...</td>\n",
       "      <td>1</td>\n",
       "    </tr>\n",
       "    <tr>\n",
       "      <th>17166</th>\n",
       "      <td>[свитер]</td>\n",
       "      <td>NaN</td>\n",
       "      <td>5b6179ba80e08e0b085562ce</td>\n",
       "      <td>9.0</td>\n",
       "      <td>905</td>\n",
       "      <td>{'zhenskaya_odezhda_razmer': '40-42 (XS)'}</td>\n",
       "      <td>http://cache3.youla.io/files/images/360_360/5b...</td>\n",
       "      <td>1</td>\n",
       "    </tr>\n",
       "    <tr>\n",
       "      <th>8418</th>\n",
       "      <td>[комплект, кроватка, новый]</td>\n",
       "      <td>Продаю новый комплект постельного белья в детс...</td>\n",
       "      <td>58a4a93bd53f3d804bfb866d</td>\n",
       "      <td>3.0</td>\n",
       "      <td>317</td>\n",
       "      <td>{'detskie_mebel_tip': 'Кроватки'}</td>\n",
       "      <td>http://cache3.youla.io/files/images/360_360/58...</td>\n",
       "      <td>1</td>\n",
       "    </tr>\n",
       "    <tr>\n",
       "      <th>34935</th>\n",
       "      <td>[бутылочка, больший, авента]</td>\n",
       "      <td>Avent natural, 3 большие бутылочки с переменны...</td>\n",
       "      <td>5beab21622a44931077348db</td>\n",
       "      <td>3.0</td>\n",
       "      <td>311</td>\n",
       "      <td>{'kormlenie_pitanie_tip': 'Бутылочки, ниблеры'}</td>\n",
       "      <td>http://cache3.youla.io/files/images/360_360/5b...</td>\n",
       "      <td>1</td>\n",
       "    </tr>\n",
       "    <tr>\n",
       "      <th>13006</th>\n",
       "      <td>[шезлонг, баунсера, люлька, tiny, love]</td>\n",
       "      <td>Продаю музыка вибрация</td>\n",
       "      <td>5a083988c15ae35c0836e59b</td>\n",
       "      <td>3.0</td>\n",
       "      <td>317</td>\n",
       "      <td>{'detskie_mebel_tip': 'Качели, шезлонги'}</td>\n",
       "      <td>http://cache3.youla.io/files/images/360_360/5b...</td>\n",
       "      <td>1</td>\n",
       "    </tr>\n",
       "  </tbody>\n",
       "</table>\n",
       "</div>"
      ],
      "text/plain": [
       "                                         title  \\\n",
       "7546                                   [брюки]   \n",
       "17166                                 [свитер]   \n",
       "8418               [комплект, кроватка, новый]   \n",
       "34935             [бутылочка, больший, авента]   \n",
       "13006  [шезлонг, баунсера, люлька, tiny, love]   \n",
       "\n",
       "                                            descrirption  \\\n",
       "7546                                   Брюки для девочек   \n",
       "17166                                                NaN   \n",
       "8418   Продаю новый комплект постельного белья в детс...   \n",
       "34935  Avent natural, 3 большие бутылочки с переменны...   \n",
       "13006                             Продаю музыка вибрация   \n",
       "\n",
       "                     product_id  category_id subcategory_id  \\\n",
       "7546   5bdbdb32bd36c06af8597d08         22.0           2216   \n",
       "17166  5b6179ba80e08e0b085562ce          9.0            905   \n",
       "8418   58a4a93bd53f3d804bfb866d          3.0            317   \n",
       "34935  5beab21622a44931077348db          3.0            311   \n",
       "13006  5a083988c15ae35c0836e59b          3.0            317   \n",
       "\n",
       "                                              properties  \\\n",
       "7546   {'sostojanie_garderob': 'Б/у', 'detskie_pol': ...   \n",
       "17166         {'zhenskaya_odezhda_razmer': '40-42 (XS)'}   \n",
       "8418                   {'detskie_mebel_tip': 'Кроватки'}   \n",
       "34935    {'kormlenie_pitanie_tip': 'Бутылочки, ниблеры'}   \n",
       "13006          {'detskie_mebel_tip': 'Качели, шезлонги'}   \n",
       "\n",
       "                                             image_links  label  \n",
       "7546   http://cache3.youla.io/files/images/360_360/5b...      1  \n",
       "17166  http://cache3.youla.io/files/images/360_360/5b...      1  \n",
       "8418   http://cache3.youla.io/files/images/360_360/58...      1  \n",
       "34935  http://cache3.youla.io/files/images/360_360/5b...      1  \n",
       "13006  http://cache3.youla.io/files/images/360_360/5b...      1  "
      ]
     },
     "execution_count": 10,
     "metadata": {},
     "output_type": "execute_result"
    }
   ],
   "source": [
    "# Combine products enquiries with label = 1 and other enquiries with label = 0\n",
    "products['label'] = 1\n",
    "products.sample(5)"
   ]
  },
  {
   "cell_type": "code",
   "execution_count": 11,
   "metadata": {
    "execution": {
     "iopub.execute_input": "2021-10-08T10:00:19.444167Z",
     "iopub.status.busy": "2021-10-08T10:00:19.443948Z",
     "iopub.status.idle": "2021-10-08T10:00:19.765431Z",
     "shell.execute_reply": "2021-10-08T10:00:19.764572Z",
     "shell.execute_reply.started": "2021-10-08T10:00:19.444142Z"
    }
   },
   "outputs": [
    {
     "name": "stderr",
     "output_type": "stream",
     "text": [
      "/opt/conda/lib/python3.7/site-packages/ipykernel_launcher.py:1: VisibleDeprecationWarning: Creating an ndarray from ragged nested sequences (which is a list-or-tuple of lists-or-tuples-or ndarrays with different lengths or shapes) is deprecated. If you meant to do this, you must specify 'dtype=object' when creating the ndarray\n",
      "  \"\"\"Entry point for launching an IPython kernel.\n"
     ]
    },
    {
     "data": {
      "text/html": [
       "<div>\n",
       "<style scoped>\n",
       "    .dataframe tbody tr th:only-of-type {\n",
       "        vertical-align: middle;\n",
       "    }\n",
       "\n",
       "    .dataframe tbody tr th {\n",
       "        vertical-align: top;\n",
       "    }\n",
       "\n",
       "    .dataframe thead th {\n",
       "        text-align: right;\n",
       "    }\n",
       "</style>\n",
       "<table border=\"1\" class=\"dataframe\">\n",
       "  <thead>\n",
       "    <tr style=\"text-align: right;\">\n",
       "      <th></th>\n",
       "      <th>text</th>\n",
       "      <th>label</th>\n",
       "    </tr>\n",
       "  </thead>\n",
       "  <tbody>\n",
       "    <tr>\n",
       "      <th>30508</th>\n",
       "      <td>[послезавтра, выспаться, наверное]</td>\n",
       "      <td>0</td>\n",
       "    </tr>\n",
       "  </tbody>\n",
       "</table>\n",
       "</div>"
      ],
      "text/plain": [
       "                                     text  label\n",
       "30508  [послезавтра, выспаться, наверное]      0"
      ]
     },
     "execution_count": 11,
     "metadata": {},
     "output_type": "execute_result"
    }
   ],
   "source": [
    "other_enquiries = pd.DataFrame(np.array(sentences), columns=['text'])\n",
    "other_enquiries['label'] = 0\n",
    "other_enquiries.sample()"
   ]
  },
  {
   "cell_type": "code",
   "execution_count": 12,
   "metadata": {
    "execution": {
     "iopub.execute_input": "2021-10-08T10:00:19.766860Z",
     "iopub.status.busy": "2021-10-08T10:00:19.766630Z",
     "iopub.status.idle": "2021-10-08T10:00:19.776018Z",
     "shell.execute_reply": "2021-10-08T10:00:19.774987Z",
     "shell.execute_reply.started": "2021-10-08T10:00:19.766818Z"
    }
   },
   "outputs": [],
   "source": [
    "prod_data = products[['title', 'label']]\n",
    "prod_data = prod_data.rename(columns={'title': 'text'})"
   ]
  },
  {
   "cell_type": "code",
   "execution_count": 13,
   "metadata": {
    "execution": {
     "iopub.execute_input": "2021-10-08T10:00:19.777939Z",
     "iopub.status.busy": "2021-10-08T10:00:19.777670Z",
     "iopub.status.idle": "2021-10-08T10:00:19.793558Z",
     "shell.execute_reply": "2021-10-08T10:00:19.792381Z",
     "shell.execute_reply.started": "2021-10-08T10:00:19.777911Z"
    }
   },
   "outputs": [],
   "source": [
    "data = pd.concat([prod_data, other_enquiries])"
   ]
  },
  {
   "cell_type": "code",
   "execution_count": 14,
   "metadata": {
    "execution": {
     "iopub.execute_input": "2021-10-08T10:00:19.795250Z",
     "iopub.status.busy": "2021-10-08T10:00:19.794981Z",
     "iopub.status.idle": "2021-10-08T10:00:19.813081Z",
     "shell.execute_reply": "2021-10-08T10:00:19.812188Z",
     "shell.execute_reply.started": "2021-10-08T10:00:19.795221Z"
    }
   },
   "outputs": [
    {
     "data": {
      "text/html": [
       "<div>\n",
       "<style scoped>\n",
       "    .dataframe tbody tr th:only-of-type {\n",
       "        vertical-align: middle;\n",
       "    }\n",
       "\n",
       "    .dataframe tbody tr th {\n",
       "        vertical-align: top;\n",
       "    }\n",
       "\n",
       "    .dataframe thead th {\n",
       "        text-align: right;\n",
       "    }\n",
       "</style>\n",
       "<table border=\"1\" class=\"dataframe\">\n",
       "  <thead>\n",
       "    <tr style=\"text-align: right;\">\n",
       "      <th></th>\n",
       "      <th>text</th>\n",
       "      <th>label</th>\n",
       "    </tr>\n",
       "  </thead>\n",
       "  <tbody>\n",
       "    <tr>\n",
       "      <th>16113</th>\n",
       "      <td>[консилиум, 5, мужик, единогласно]</td>\n",
       "      <td>0</td>\n",
       "    </tr>\n",
       "    <tr>\n",
       "      <th>27295</th>\n",
       "      <td>[кроссовок, осень]</td>\n",
       "      <td>1</td>\n",
       "    </tr>\n",
       "    <tr>\n",
       "      <th>84161</th>\n",
       "      <td>[поверье, умирающий, ведьма, умереть, передать...</td>\n",
       "      <td>0</td>\n",
       "    </tr>\n",
       "    <tr>\n",
       "      <th>71202</th>\n",
       "      <td>[хороший, выбрать, соперник, игра, место, случ...</td>\n",
       "      <td>0</td>\n",
       "    </tr>\n",
       "    <tr>\n",
       "      <th>1774</th>\n",
       "      <td>[аэс, ружьё, висеть, акт, спектакль, выстрелит...</td>\n",
       "      <td>0</td>\n",
       "    </tr>\n",
       "    <tr>\n",
       "      <th>72923</th>\n",
       "      <td>[удоюный]</td>\n",
       "      <td>0</td>\n",
       "    </tr>\n",
       "    <tr>\n",
       "      <th>24906</th>\n",
       "      <td>[сандалия, орлёнок, кожа, мд, р, 26]</td>\n",
       "      <td>1</td>\n",
       "    </tr>\n",
       "    <tr>\n",
       "      <th>100179</th>\n",
       "      <td>[мороз, синий, нос, сильно, пить]</td>\n",
       "      <td>0</td>\n",
       "    </tr>\n",
       "    <tr>\n",
       "      <th>59114</th>\n",
       "      <td>[httpwwwskypecomintlrudownloadskypewindowscmmm...</td>\n",
       "      <td>0</td>\n",
       "    </tr>\n",
       "    <tr>\n",
       "      <th>26493</th>\n",
       "      <td>[ветровка]</td>\n",
       "      <td>1</td>\n",
       "    </tr>\n",
       "  </tbody>\n",
       "</table>\n",
       "</div>"
      ],
      "text/plain": [
       "                                                     text  label\n",
       "16113                  [консилиум, 5, мужик, единогласно]      0\n",
       "27295                                  [кроссовок, осень]      1\n",
       "84161   [поверье, умирающий, ведьма, умереть, передать...      0\n",
       "71202   [хороший, выбрать, соперник, игра, место, случ...      0\n",
       "1774    [аэс, ружьё, висеть, акт, спектакль, выстрелит...      0\n",
       "72923                                           [удоюный]      0\n",
       "24906                [сандалия, орлёнок, кожа, мд, р, 26]      1\n",
       "100179                  [мороз, синий, нос, сильно, пить]      0\n",
       "59114   [httpwwwskypecomintlrudownloadskypewindowscmmm...      0\n",
       "26493                                          [ветровка]      1"
      ]
     },
     "execution_count": 14,
     "metadata": {},
     "output_type": "execute_result"
    }
   ],
   "source": [
    "data.sample(10)"
   ]
  },
  {
   "cell_type": "code",
   "execution_count": 15,
   "metadata": {
    "execution": {
     "iopub.execute_input": "2021-10-08T10:00:19.814547Z",
     "iopub.status.busy": "2021-10-08T10:00:19.814308Z",
     "iopub.status.idle": "2021-10-08T10:00:21.232677Z",
     "shell.execute_reply": "2021-10-08T10:00:21.231908Z",
     "shell.execute_reply.started": "2021-10-08T10:00:19.814521Z"
    }
   },
   "outputs": [],
   "source": [
    "data.to_csv('all_enquiries.csv', index=False)"
   ]
  },
  {
   "cell_type": "code",
   "execution_count": 16,
   "metadata": {
    "execution": {
     "iopub.execute_input": "2021-10-08T10:00:21.236497Z",
     "iopub.status.busy": "2021-10-08T10:00:21.235929Z",
     "iopub.status.idle": "2021-10-08T10:00:21.272516Z",
     "shell.execute_reply": "2021-10-08T10:00:21.271930Z",
     "shell.execute_reply.started": "2021-10-08T10:00:21.236460Z"
    }
   },
   "outputs": [
    {
     "name": "stdout",
     "output_type": "stream",
     "text": [
      "<class 'pandas.core.frame.DataFrame'>\n",
      "Int64Index: 140122 entries, 0 to 104573\n",
      "Data columns (total 2 columns):\n",
      " #   Column  Non-Null Count   Dtype \n",
      "---  ------  --------------   ----- \n",
      " 0   text    140122 non-null  object\n",
      " 1   label   140122 non-null  int64 \n",
      "dtypes: int64(1), object(1)\n",
      "memory usage: 3.2+ MB\n"
     ]
    }
   ],
   "source": [
    "data.info()"
   ]
  },
  {
   "cell_type": "code",
   "execution_count": 17,
   "metadata": {
    "execution": {
     "iopub.execute_input": "2021-10-08T10:00:21.274162Z",
     "iopub.status.busy": "2021-10-08T10:00:21.273399Z",
     "iopub.status.idle": "2021-10-08T10:00:21.478750Z",
     "shell.execute_reply": "2021-10-08T10:00:21.478097Z",
     "shell.execute_reply.started": "2021-10-08T10:00:21.274114Z"
    }
   },
   "outputs": [],
   "source": [
    "data['text'] = data['text'].apply(lambda x: ' '.join(x))"
   ]
  },
  {
   "cell_type": "code",
   "execution_count": 18,
   "metadata": {
    "execution": {
     "iopub.execute_input": "2021-10-08T10:00:21.480826Z",
     "iopub.status.busy": "2021-10-08T10:00:21.479995Z",
     "iopub.status.idle": "2021-10-08T10:00:25.272210Z",
     "shell.execute_reply": "2021-10-08T10:00:25.271427Z",
     "shell.execute_reply.started": "2021-10-08T10:00:21.480782Z"
    }
   },
   "outputs": [
    {
     "data": {
      "text/plain": [
       "TfidfVectorizer()"
      ]
     },
     "execution_count": 18,
     "metadata": {},
     "output_type": "execute_result"
    }
   ],
   "source": [
    "vectorizer = TfidfVectorizer()\n",
    "vectorizer.fit(data['text'])"
   ]
  },
  {
   "cell_type": "code",
   "execution_count": 19,
   "metadata": {
    "execution": {
     "iopub.execute_input": "2021-10-08T10:00:25.273702Z",
     "iopub.status.busy": "2021-10-08T10:00:25.273496Z",
     "iopub.status.idle": "2021-10-08T10:00:25.443563Z",
     "shell.execute_reply": "2021-10-08T10:00:25.442783Z",
     "shell.execute_reply.started": "2021-10-08T10:00:25.273678Z"
    }
   },
   "outputs": [],
   "source": [
    "with open('vectorizer.pk', 'wb') as fin:\n",
    "    pickle.dump(vectorizer, fin)"
   ]
  },
  {
   "cell_type": "code",
   "execution_count": 20,
   "metadata": {
    "execution": {
     "iopub.execute_input": "2021-10-08T10:00:25.445003Z",
     "iopub.status.busy": "2021-10-08T10:00:25.444771Z",
     "iopub.status.idle": "2021-10-08T10:00:25.471673Z",
     "shell.execute_reply": "2021-10-08T10:00:25.470925Z",
     "shell.execute_reply.started": "2021-10-08T10:00:25.444977Z"
    }
   },
   "outputs": [],
   "source": [
    "X = data['text']\n",
    "y = data['label']\n",
    "\n",
    "X_train, X_test, y_train, y_test = train_test_split(X, y, test_size=0.2, random_state=42, shuffle=True, stratify=None)"
   ]
  },
  {
   "cell_type": "code",
   "execution_count": 21,
   "metadata": {
    "execution": {
     "iopub.execute_input": "2021-10-08T10:00:25.473220Z",
     "iopub.status.busy": "2021-10-08T10:00:25.472998Z",
     "iopub.status.idle": "2021-10-08T10:00:25.481280Z",
     "shell.execute_reply": "2021-10-08T10:00:25.480177Z",
     "shell.execute_reply.started": "2021-10-08T10:00:25.473194Z"
    }
   },
   "outputs": [
    {
     "data": {
      "text/plain": [
       "0    20860\n",
       "1     7165\n",
       "Name: label, dtype: int64"
      ]
     },
     "execution_count": 21,
     "metadata": {},
     "output_type": "execute_result"
    }
   ],
   "source": [
    "y_test.value_counts()"
   ]
  },
  {
   "cell_type": "code",
   "execution_count": 22,
   "metadata": {
    "execution": {
     "iopub.execute_input": "2021-10-08T10:00:25.482974Z",
     "iopub.status.busy": "2021-10-08T10:00:25.482655Z",
     "iopub.status.idle": "2021-10-08T10:00:27.857030Z",
     "shell.execute_reply": "2021-10-08T10:00:27.856278Z",
     "shell.execute_reply.started": "2021-10-08T10:00:25.482938Z"
    }
   },
   "outputs": [],
   "source": [
    "X_train_vec = vectorizer.transform(X_train)"
   ]
  },
  {
   "cell_type": "code",
   "execution_count": 39,
   "metadata": {
    "execution": {
     "iopub.execute_input": "2021-10-08T10:08:07.706307Z",
     "iopub.status.busy": "2021-10-08T10:08:07.706027Z",
     "iopub.status.idle": "2021-10-08T10:08:08.890611Z",
     "shell.execute_reply": "2021-10-08T10:08:08.889630Z",
     "shell.execute_reply.started": "2021-10-08T10:08:07.706279Z"
    }
   },
   "outputs": [],
   "source": [
    "lg_model = LogisticRegression(random_state=42, solver='liblinear').fit(X_train_vec, y_train)"
   ]
  },
  {
   "cell_type": "code",
   "execution_count": 40,
   "metadata": {
    "execution": {
     "iopub.execute_input": "2021-10-08T10:08:10.882919Z",
     "iopub.status.busy": "2021-10-08T10:08:10.882621Z",
     "iopub.status.idle": "2021-10-08T10:08:11.496914Z",
     "shell.execute_reply": "2021-10-08T10:08:11.496176Z",
     "shell.execute_reply.started": "2021-10-08T10:08:10.882882Z"
    }
   },
   "outputs": [],
   "source": [
    "X_test_vec = vectorizer.transform(X_test)\n",
    "prediction = lg_model.predict(X_test_vec)"
   ]
  },
  {
   "cell_type": "code",
   "execution_count": 41,
   "metadata": {
    "execution": {
     "iopub.execute_input": "2021-10-08T10:08:11.499087Z",
     "iopub.status.busy": "2021-10-08T10:08:11.498510Z",
     "iopub.status.idle": "2021-10-08T10:08:11.505951Z",
     "shell.execute_reply": "2021-10-08T10:08:11.505221Z",
     "shell.execute_reply.started": "2021-10-08T10:08:11.499042Z"
    }
   },
   "outputs": [
    {
     "data": {
      "text/plain": [
       "0.9696699375557538"
      ]
     },
     "execution_count": 41,
     "metadata": {},
     "output_type": "execute_result"
    }
   ],
   "source": [
    "accuracy = (prediction == y_test).mean()\n",
    "accuracy"
   ]
  },
  {
   "cell_type": "code",
   "execution_count": 42,
   "metadata": {
    "execution": {
     "iopub.execute_input": "2021-10-08T10:08:18.438987Z",
     "iopub.status.busy": "2021-10-08T10:08:18.438689Z",
     "iopub.status.idle": "2021-10-08T10:08:18.944370Z",
     "shell.execute_reply": "2021-10-08T10:08:18.943413Z",
     "shell.execute_reply.started": "2021-10-08T10:08:18.438957Z"
    }
   },
   "outputs": [],
   "source": [
    "svm_model = LinearSVC(random_state=42).fit(X_train_vec, y_train)"
   ]
  },
  {
   "cell_type": "code",
   "execution_count": 43,
   "metadata": {
    "execution": {
     "iopub.execute_input": "2021-10-08T10:08:18.946398Z",
     "iopub.status.busy": "2021-10-08T10:08:18.946152Z",
     "iopub.status.idle": "2021-10-08T10:08:19.554177Z",
     "shell.execute_reply": "2021-10-08T10:08:19.553289Z",
     "shell.execute_reply.started": "2021-10-08T10:08:18.946371Z"
    }
   },
   "outputs": [],
   "source": [
    "X_test_vec = vectorizer.transform(X_test)\n",
    "prediction = svm_model.predict(X_test_vec)"
   ]
  },
  {
   "cell_type": "code",
   "execution_count": 44,
   "metadata": {
    "execution": {
     "iopub.execute_input": "2021-10-08T10:08:19.555774Z",
     "iopub.status.busy": "2021-10-08T10:08:19.555562Z",
     "iopub.status.idle": "2021-10-08T10:08:19.561947Z",
     "shell.execute_reply": "2021-10-08T10:08:19.561182Z",
     "shell.execute_reply.started": "2021-10-08T10:08:19.555750Z"
    }
   },
   "outputs": [
    {
     "data": {
      "text/plain": [
       "0.9793398751115076"
      ]
     },
     "execution_count": 44,
     "metadata": {},
     "output_type": "execute_result"
    }
   ],
   "source": [
    "accuracy = (prediction == y_test).mean()\n",
    "accuracy"
   ]
  },
  {
   "cell_type": "code",
   "execution_count": 45,
   "metadata": {
    "execution": {
     "iopub.execute_input": "2021-10-08T10:08:19.779345Z",
     "iopub.status.busy": "2021-10-08T10:08:19.779067Z",
     "iopub.status.idle": "2021-10-08T10:08:19.785377Z",
     "shell.execute_reply": "2021-10-08T10:08:19.784459Z",
     "shell.execute_reply.started": "2021-10-08T10:08:19.779317Z"
    }
   },
   "outputs": [],
   "source": [
    "# Save the best model\n",
    "import pickle\n",
    "with open('svm_model_pkl', 'wb') as files:\n",
    "    pickle.dump(svm_model, files)"
   ]
  }
 ],
 "metadata": {
  "kernelspec": {
   "display_name": "Python 3",
   "language": "python",
   "name": "python3"
  },
  "language_info": {
   "codemirror_mode": {
    "name": "ipython",
    "version": 3
   },
   "file_extension": ".py",
   "mimetype": "text/x-python",
   "name": "python",
   "nbconvert_exporter": "python",
   "pygments_lexer": "ipython3",
   "version": "3.7.6"
  }
 },
 "nbformat": 4,
 "nbformat_minor": 4
}
