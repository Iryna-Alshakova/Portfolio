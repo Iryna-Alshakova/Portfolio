{
 "cells": [
  {
   "cell_type": "markdown",
   "metadata": {},
   "source": [
    "# Chatbot"
   ]
  },
  {
   "cell_type": "code",
   "execution_count": 1,
   "metadata": {
    "execution": {
     "iopub.execute_input": "2021-10-07T14:42:10.854542Z",
     "iopub.status.busy": "2021-10-07T14:42:10.854108Z",
     "iopub.status.idle": "2021-10-07T14:42:22.144025Z",
     "shell.execute_reply": "2021-10-07T14:42:22.142862Z",
     "shell.execute_reply.started": "2021-10-07T14:42:10.854434Z"
    }
   },
   "outputs": [],
   "source": [
    "# pip install pymorphy2"
   ]
  },
  {
   "cell_type": "code",
   "execution_count": 3,
   "metadata": {
    "execution": {
     "iopub.execute_input": "2021-10-07T14:42:30.214753Z",
     "iopub.status.busy": "2021-10-07T14:42:30.214392Z",
     "iopub.status.idle": "2021-10-07T14:42:30.221429Z",
     "shell.execute_reply": "2021-10-07T14:42:30.220673Z",
     "shell.execute_reply.started": "2021-10-07T14:42:30.214713Z"
    }
   },
   "outputs": [],
   "source": [
    "import os\n",
    "import string\n",
    "import annoy\n",
    "import json\n",
    "\n",
    "from pymorphy2 import MorphAnalyzer\n",
    "from stop_words import get_stop_words\n",
    "from gensim.models import Word2Vec\n",
    "from gensim.models import KeyedVectors\n",
    "\n",
    "import numpy as np\n",
    "from tqdm import tqdm_notebook\n",
    "import pandas as pd"
   ]
  },
  {
   "cell_type": "markdown",
   "metadata": {},
   "source": [
    "### Preprocess the mail.ru responses from the file: attach 1 answer to each question and write it down to a new file, which will be used further."
   ]
  },
  {
   "cell_type": "code",
   "execution_count": 4,
   "metadata": {
    "execution": {
     "iopub.execute_input": "2021-10-07T14:42:52.827032Z",
     "iopub.status.busy": "2021-10-07T14:42:52.826683Z",
     "iopub.status.idle": "2021-10-07T14:43:29.293910Z",
     "shell.execute_reply": "2021-10-07T14:43:29.293156Z",
     "shell.execute_reply.started": "2021-10-07T14:42:52.826996Z"
    }
   },
   "outputs": [
    {
     "name": "stderr",
     "output_type": "stream",
     "text": [
      "/opt/conda/lib/python3.7/site-packages/ipykernel_launcher.py:8: TqdmDeprecationWarning: This function will be removed in tqdm==5.0.0\n",
      "Please use `tqdm.notebook.tqdm` instead of `tqdm.tqdm_notebook`\n",
      "  \n"
     ]
    },
    {
     "data": {
      "application/vnd.jupyter.widget-view+json": {
       "model_id": "adcfd064683343ee95fc5306194e4b57",
       "version_major": 2,
       "version_minor": 0
      },
      "text/plain": [
       "0it [00:00, ?it/s]"
      ]
     },
     "metadata": {},
     "output_type": "display_data"
    }
   ],
   "source": [
    "question = None\n",
    "written = False\n",
    "\n",
    "with open(\"prepared_answers.txt\", \"w\") as fout:\n",
    "    with open(\"../input/otvety/Otvety.txt\", \"r\") as fin:\n",
    "        for line in tqdm_notebook(fin):\n",
    "            if line.startswith(\"---\"):\n",
    "                written = False\n",
    "                continue\n",
    "            if not written and question is not None:\n",
    "                fout.write(question.replace(\"\\t\", \" \").strip() + \"\\t\" + line.replace(\"\\t\", \" \"))\n",
    "                written = True\n",
    "                question = None\n",
    "                continue\n",
    "            if not written:\n",
    "                question = line.strip()\n",
    "                continue\n"
   ]
  },
  {
   "cell_type": "code",
   "execution_count": 5,
   "metadata": {
    "execution": {
     "iopub.execute_input": "2021-10-07T14:46:04.782853Z",
     "iopub.status.busy": "2021-10-07T14:46:04.781809Z",
     "iopub.status.idle": "2021-10-07T14:46:04.789174Z",
     "shell.execute_reply": "2021-10-07T14:46:04.788153Z",
     "shell.execute_reply.started": "2021-10-07T14:46:04.782799Z"
    }
   },
   "outputs": [],
   "source": [
    "def preprocess_txt(line):\n",
    "    spls = \"\".join(i for i in line.strip() if i not in exclude).split()\n",
    "    spls = [morpher.parse(i.lower())[0].normal_form for i in spls]\n",
    "    spls = [i for i in spls if i not in sw and i != \"\"]\n",
    "    return spls"
   ]
  },
  {
   "cell_type": "code",
   "execution_count": 6,
   "metadata": {
    "execution": {
     "iopub.execute_input": "2021-10-07T14:46:08.394382Z",
     "iopub.status.busy": "2021-10-07T14:46:08.393550Z",
     "iopub.status.idle": "2021-10-07T15:24:07.825813Z",
     "shell.execute_reply": "2021-10-07T15:24:07.825154Z",
     "shell.execute_reply.started": "2021-10-07T14:46:08.394319Z"
    }
   },
   "outputs": [
    {
     "name": "stderr",
     "output_type": "stream",
     "text": [
      "/opt/conda/lib/python3.7/site-packages/ipykernel_launcher.py:9: TqdmDeprecationWarning: This function will be removed in tqdm==5.0.0\n",
      "Please use `tqdm.notebook.tqdm` instead of `tqdm.tqdm_notebook`\n",
      "  if __name__ == '__main__':\n"
     ]
    },
    {
     "data": {
      "application/vnd.jupyter.widget-view+json": {
       "model_id": "36bfc98e9a7e477a826bb01ed862e3f2",
       "version_major": 2,
       "version_minor": 0
      },
      "text/plain": [
       "0it [00:00, ?it/s]"
      ]
     },
     "metadata": {},
     "output_type": "display_data"
    }
   ],
   "source": [
    "sentences = []\n",
    "\n",
    "morpher = MorphAnalyzer()\n",
    "sw = set(get_stop_words(\"ru\"))\n",
    "exclude = set(string.punctuation)\n",
    "c = 0\n",
    "\n",
    "with open(\"../input/otvety/Otvety.txt\", \"r\") as fin:\n",
    "    for line in tqdm_notebook(fin):\n",
    "        spls = preprocess_txt(line)\n",
    "        sentences.append(spls)\n",
    "        c += 1\n",
    "        if c > 500000:\n",
    "            break\n"
   ]
  },
  {
   "cell_type": "code",
   "execution_count": 7,
   "metadata": {
    "execution": {
     "iopub.execute_input": "2021-10-07T15:24:07.828291Z",
     "iopub.status.busy": "2021-10-07T15:24:07.827425Z",
     "iopub.status.idle": "2021-10-07T15:24:07.835672Z",
     "shell.execute_reply": "2021-10-07T15:24:07.835083Z",
     "shell.execute_reply.started": "2021-10-07T15:24:07.828242Z"
    }
   },
   "outputs": [
    {
     "data": {
      "text/plain": [
       "[[],\n",
       " [],\n",
       " ['вопрос', 'тдв', 'отдыхать', 'лично', 'советовать', 'завести'],\n",
       " ['хомячок'],\n",
       " ['мужик', 'йопарить', 'собачка', '50', 'кошка']]"
      ]
     },
     "execution_count": 7,
     "metadata": {},
     "output_type": "execute_result"
    }
   ],
   "source": [
    "sentences[:5]"
   ]
  },
  {
   "cell_type": "code",
   "execution_count": 8,
   "metadata": {
    "execution": {
     "iopub.execute_input": "2021-10-07T15:24:07.837597Z",
     "iopub.status.busy": "2021-10-07T15:24:07.836790Z",
     "iopub.status.idle": "2021-10-07T15:25:16.601705Z",
     "shell.execute_reply": "2021-10-07T15:25:16.600773Z",
     "shell.execute_reply.started": "2021-10-07T15:24:07.837555Z"
    }
   },
   "outputs": [],
   "source": [
    "# Apply Word2Vec\n",
    "sentences = [i for i in sentences if len(i) > 2]\n",
    "model = Word2Vec(sentences=sentences, vector_size=100, min_count=1, window=5)\n",
    "model.save(\"w2v_model.model\")"
   ]
  },
  {
   "cell_type": "code",
   "execution_count": 9,
   "metadata": {
    "execution": {
     "iopub.execute_input": "2021-10-07T15:25:27.809723Z",
     "iopub.status.busy": "2021-10-07T15:25:27.808918Z",
     "iopub.status.idle": "2021-10-07T15:25:28.600396Z",
     "shell.execute_reply": "2021-10-07T15:25:28.599535Z",
     "shell.execute_reply.started": "2021-10-07T15:25:27.809673Z"
    }
   },
   "outputs": [],
   "source": [
    "# Store just the words + their trained embeddings.\n",
    "word_vectors = model.wv\n",
    "word_vectors.save(\"word2vec.wordvectors\")\n",
    "\n",
    "# Load back with memory-mapping = read-only, shared across processes.\n",
    "#word_vectors = KeyedVectors.load(\"../input/models/word2vec.wordvectors\", mmap='r')"
   ]
  },
  {
   "cell_type": "code",
   "execution_count": 10,
   "metadata": {
    "execution": {
     "iopub.execute_input": "2021-10-07T15:25:33.024544Z",
     "iopub.status.busy": "2021-10-07T15:25:33.024171Z",
     "iopub.status.idle": "2021-10-07T15:25:33.030390Z",
     "shell.execute_reply": "2021-10-07T15:25:33.029380Z",
     "shell.execute_reply.started": "2021-10-07T15:25:33.024505Z"
    }
   },
   "outputs": [],
   "source": [
    "keys = word_vectors.key_to_index # dictionary of all words in Word2Vec model"
   ]
  },
  {
   "cell_type": "code",
   "execution_count": 11,
   "metadata": {
    "execution": {
     "iopub.execute_input": "2021-10-07T15:25:34.297712Z",
     "iopub.status.busy": "2021-10-07T15:25:34.297190Z",
     "iopub.status.idle": "2021-10-07T15:25:34.303164Z",
     "shell.execute_reply": "2021-10-07T15:25:34.302578Z",
     "shell.execute_reply.started": "2021-10-07T15:25:34.297678Z"
    }
   },
   "outputs": [
    {
     "data": {
      "text/plain": [
       "572808"
      ]
     },
     "execution_count": 11,
     "metadata": {},
     "output_type": "execute_result"
    }
   ],
   "source": [
    "len(keys)"
   ]
  },
  {
   "cell_type": "code",
   "execution_count": 13,
   "metadata": {
    "execution": {
     "iopub.execute_input": "2021-10-07T15:26:02.401911Z",
     "iopub.status.busy": "2021-10-07T15:26:02.401234Z",
     "iopub.status.idle": "2021-10-07T16:54:39.343266Z",
     "shell.execute_reply": "2021-10-07T16:54:39.342370Z",
     "shell.execute_reply.started": "2021-10-07T15:26:02.401870Z"
    }
   },
   "outputs": [
    {
     "name": "stderr",
     "output_type": "stream",
     "text": [
      "/opt/conda/lib/python3.7/site-packages/ipykernel_launcher.py:7: TqdmDeprecationWarning: This function will be removed in tqdm==5.0.0\n",
      "Please use `tqdm.notebook.tqdm` instead of `tqdm.tqdm_notebook`\n",
      "  import sys\n"
     ]
    },
    {
     "data": {
      "application/vnd.jupyter.widget-view+json": {
       "model_id": "1acf88690d73461c8ebf96c2000df29d",
       "version_major": 2,
       "version_minor": 0
      },
      "text/plain": [
       "0it [00:00, ?it/s]"
      ]
     },
     "metadata": {},
     "output_type": "display_data"
    },
    {
     "data": {
      "text/plain": [
       "True"
      ]
     },
     "execution_count": 13,
     "metadata": {},
     "output_type": "execute_result"
    }
   ],
   "source": [
    "index = annoy.AnnoyIndex(100 ,'angular')\n",
    "\n",
    "index_map = {}\n",
    "counter = 0\n",
    "\n",
    "with open(\"../input/d/irynaalshakova/models/prepared_answers.txt\", \"r\") as f:\n",
    "    for line in tqdm_notebook(f):\n",
    "        n_w2v = 0\n",
    "        spls = line.split(\"\\t\")\n",
    "        index_map[counter] = spls[1]\n",
    "        question = preprocess_txt(spls[0])\n",
    "        vector = np.zeros(100)\n",
    "        for word in question:\n",
    "            if word in keys.keys():\n",
    "                vector += word_vectors[word]\n",
    "                n_w2v += 1\n",
    "        if n_w2v > 0:\n",
    "            vector = vector / n_w2v\n",
    "        index.add_item(counter, vector)\n",
    "            \n",
    "        counter += 1\n",
    "\n",
    "index.build(10)\n",
    "index.save('speaker.ann')"
   ]
  },
  {
   "cell_type": "code",
   "execution_count": 14,
   "metadata": {
    "execution": {
     "iopub.execute_input": "2021-10-07T16:55:41.533241Z",
     "iopub.status.busy": "2021-10-07T16:55:41.532217Z",
     "iopub.status.idle": "2021-10-07T16:55:53.291484Z",
     "shell.execute_reply": "2021-10-07T16:55:53.289710Z",
     "shell.execute_reply.started": "2021-10-07T16:55:41.533191Z"
    }
   },
   "outputs": [],
   "source": [
    "with open('index_map.json', 'w') as fp:\n",
    "    json.dump(index_map, fp)"
   ]
  },
  {
   "cell_type": "code",
   "execution_count": null,
   "metadata": {},
   "outputs": [],
   "source": []
  }
 ],
 "metadata": {
  "kernelspec": {
   "display_name": "Python 3",
   "language": "python",
   "name": "python3"
  },
  "language_info": {
   "codemirror_mode": {
    "name": "ipython",
    "version": 3
   },
   "file_extension": ".py",
   "mimetype": "text/x-python",
   "name": "python",
   "nbconvert_exporter": "python",
   "pygments_lexer": "ipython3",
   "version": "3.7.6"
  }
 },
 "nbformat": 4,
 "nbformat_minor": 4
}
